{
  "cells": [
    {
      "cell_type": "markdown",
      "metadata": {
        "id": "nHjiXchaXaDE"
      },
      "source": [
        "# UNDERSTANDING THE WAY TO GENERATE KPIS IN PANDAS\n",
        "\n",
        "## GOALS\n",
        "\n",
        "### Extract some KPIs from the Data. In this case will be:\n",
        "### - PERCENTAGE of each GENDER\n",
        "### - MEAN AGE by GENDER\n",
        "### - MEAN of DAYS over SUBSCRIPTION TYPE\n",
        "### - MEAN INCOME PER CLIENT over SUBSCRIPTION TYPE per YEAR\n",
        "### - MEAN INCOME PER CLIENT over GENDER"
      ]
    },
    {
      "cell_type": "code",
      "execution_count": 47,
      "metadata": {
        "id": "_4nChlRGmqVy"
      },
      "outputs": [],
      "source": [
        "# https://www.kaggle.com/datasets/gsagar12/dspp1?resource=download\n",
        "# Last day: 2021-12-31"
      ]
    },
    {
      "cell_type": "markdown",
      "metadata": {
        "id": "2VVCxHkVcoTm"
      },
      "source": [
        "### LOADING THE DATA"
      ]
    },
    {
      "cell_type": "markdown",
      "metadata": {
        "id": "ATBjv3gBXukk"
      },
      "source": [
        "Importing the needed libraries"
      ]
    },
    {
      "cell_type": "code",
      "execution_count": 48,
      "metadata": {
        "id": "FAOH9EEfmAmP"
      },
      "outputs": [],
      "source": [
        "import pandas as pd\n",
        "import datetime"
      ]
    },
    {
      "cell_type": "markdown",
      "metadata": {
        "id": "C8p_zKzQX3Up"
      },
      "source": [
        "Creating a function to remove all the unnamed columns in the datasets."
      ]
    },
    {
      "cell_type": "code",
      "execution_count": 49,
      "metadata": {
        "id": "sJHKJrKonC6A"
      },
      "outputs": [],
      "source": [
        "def remove_unnamed_cols(df):\n",
        "  df = df.loc[:, ~df.columns.str.contains('^Unnamed')]\n",
        "  return df"
      ]
    },
    {
      "cell_type": "markdown",
      "metadata": {
        "id": "Xa8-pauoYBh4"
      },
      "source": [
        "Creating a function to load the data directly from GOOGLE DRIVE."
      ]
    },
    {
      "cell_type": "code",
      "execution_count": 50,
      "metadata": {
        "id": "R-tSOlzZowEX"
      },
      "outputs": [],
      "source": [
        "def load_csv_from_drive(drive_url):\n",
        "    url='https://drive.google.com/uc?id=' + drive_url.split('/')[-2]\n",
        "    df = remove_unnamed_cols(pd.read_csv(url))\n",
        "    return df"
      ]
    },
    {
      "cell_type": "markdown",
      "metadata": {
        "id": "nVJOi5fmYIlt"
      },
      "source": [
        "Loading the CUSTOMERs data to pandas dataframe."
      ]
    },
    {
      "cell_type": "code",
      "execution_count": 51,
      "metadata": {
        "id": "pde0fZdEmC1T"
      },
      "outputs": [],
      "source": [
        "customer_drive_url = 'https://drive.google.com/file/d/1VerQ3_t3S5UBoN-6qteiuuntAf3pShBv/view?usp=sharing'\n",
        "customer_df = load_csv_from_drive(customer_drive_url)"
      ]
    },
    {
      "cell_type": "markdown",
      "metadata": {
        "id": "XyfseEaaYO8v"
      },
      "source": [
        "Showing a sample of data to validate the columns."
      ]
    },
    {
      "cell_type": "code",
      "execution_count": 52,
      "metadata": {
        "colab": {
          "base_uri": "https://localhost:8080/",
          "height": 175
        },
        "id": "J9pMk8pjmaWM",
        "outputId": "acafe1b5-500b-41a5-b401-d84efbf859fd"
      },
      "outputs": [
        {
          "data": {
            "text/html": [
              "<div>\n",
              "<style scoped>\n",
              "    .dataframe tbody tr th:only-of-type {\n",
              "        vertical-align: middle;\n",
              "    }\n",
              "\n",
              "    .dataframe tbody tr th {\n",
              "        vertical-align: top;\n",
              "    }\n",
              "\n",
              "    .dataframe thead th {\n",
              "        text-align: right;\n",
              "    }\n",
              "</style>\n",
              "<table border=\"1\" class=\"dataframe\">\n",
              "  <thead>\n",
              "    <tr style=\"text-align: right;\">\n",
              "      <th></th>\n",
              "      <th>customer_id</th>\n",
              "      <th>age</th>\n",
              "      <th>gender</th>\n",
              "    </tr>\n",
              "  </thead>\n",
              "  <tbody>\n",
              "    <tr>\n",
              "      <th>0</th>\n",
              "      <td>C2448</td>\n",
              "      <td>76</td>\n",
              "      <td>female</td>\n",
              "    </tr>\n",
              "    <tr>\n",
              "      <th>1</th>\n",
              "      <td>C2449</td>\n",
              "      <td>61</td>\n",
              "      <td>male</td>\n",
              "    </tr>\n",
              "    <tr>\n",
              "      <th>2</th>\n",
              "      <td>C2450</td>\n",
              "      <td>58</td>\n",
              "      <td>female</td>\n",
              "    </tr>\n",
              "    <tr>\n",
              "      <th>3</th>\n",
              "      <td>C2451</td>\n",
              "      <td>62</td>\n",
              "      <td>female</td>\n",
              "    </tr>\n",
              "  </tbody>\n",
              "</table>\n",
              "</div>"
            ],
            "text/plain": [
              "  customer_id  age  gender\n",
              "0       C2448   76  female\n",
              "1       C2449   61    male\n",
              "2       C2450   58  female\n",
              "3       C2451   62  female"
            ]
          },
          "execution_count": 52,
          "metadata": {},
          "output_type": "execute_result"
        }
      ],
      "source": [
        "customer_df.head(4)"
      ]
    },
    {
      "cell_type": "markdown",
      "metadata": {
        "id": "s3Xdn2DMYXbS"
      },
      "source": [
        "Applying **info** function to the dataframe to show types of the columns and the NULL values."
      ]
    },
    {
      "cell_type": "code",
      "execution_count": 53,
      "metadata": {
        "colab": {
          "base_uri": "https://localhost:8080/"
        },
        "id": "Z2NB4JKEoGZ-",
        "outputId": "b75e7a19-39a4-48f2-e9bd-6fe0fde116d2"
      },
      "outputs": [
        {
          "name": "stdout",
          "output_type": "stream",
          "text": [
            "<class 'pandas.core.frame.DataFrame'>\n",
            "RangeIndex: 508932 entries, 0 to 508931\n",
            "Data columns (total 3 columns):\n",
            " #   Column       Non-Null Count   Dtype \n",
            "---  ------       --------------   ----- \n",
            " 0   customer_id  508932 non-null  object\n",
            " 1   age          508932 non-null  int64 \n",
            " 2   gender       508932 non-null  object\n",
            "dtypes: int64(1), object(2)\n",
            "memory usage: 11.6+ MB\n"
          ]
        }
      ],
      "source": [
        "customer_df.info()"
      ]
    },
    {
      "cell_type": "markdown",
      "metadata": {
        "id": "BK5UjSomYlXO"
      },
      "source": [
        "Loading the SUBSCRIPTIONs data to dataframe."
      ]
    },
    {
      "cell_type": "code",
      "execution_count": 54,
      "metadata": {
        "id": "P3NrBbN1mc4t"
      },
      "outputs": [],
      "source": [
        "subscription_drive_url = 'https://drive.google.com/file/d/1x8Jm0iBnZoFQ-jNy4yklY4m2MRxD_wSw/view?usp=sharing'\n",
        "subscription_df = load_csv_from_drive(subscription_drive_url)"
      ]
    },
    {
      "cell_type": "markdown",
      "metadata": {
        "id": "fKCwLxClYw8_"
      },
      "source": [
        "Showing a sample of data to validate the columns."
      ]
    },
    {
      "cell_type": "code",
      "execution_count": 55,
      "metadata": {
        "colab": {
          "base_uri": "https://localhost:8080/",
          "height": 112
        },
        "id": "8UKYL8EOnusg",
        "outputId": "bcee0e82-2cb2-47d7-811f-ddbad990af8d"
      },
      "outputs": [
        {
          "data": {
            "text/html": [
              "<div>\n",
              "<style scoped>\n",
              "    .dataframe tbody tr th:only-of-type {\n",
              "        vertical-align: middle;\n",
              "    }\n",
              "\n",
              "    .dataframe tbody tr th {\n",
              "        vertical-align: top;\n",
              "    }\n",
              "\n",
              "    .dataframe thead th {\n",
              "        text-align: right;\n",
              "    }\n",
              "</style>\n",
              "<table border=\"1\" class=\"dataframe\">\n",
              "  <thead>\n",
              "    <tr style=\"text-align: right;\">\n",
              "      <th></th>\n",
              "      <th>customer_id</th>\n",
              "      <th>product</th>\n",
              "      <th>signup_date_time</th>\n",
              "      <th>cancel_date_time</th>\n",
              "    </tr>\n",
              "  </thead>\n",
              "  <tbody>\n",
              "    <tr>\n",
              "      <th>0</th>\n",
              "      <td>C2448</td>\n",
              "      <td>prd_1</td>\n",
              "      <td>2017-01-01 10:35:09</td>\n",
              "      <td>NaN</td>\n",
              "    </tr>\n",
              "    <tr>\n",
              "      <th>1</th>\n",
              "      <td>C2449</td>\n",
              "      <td>prd_1</td>\n",
              "      <td>2017-01-01 11:39:29</td>\n",
              "      <td>2021-09-05 10:00:02</td>\n",
              "    </tr>\n",
              "  </tbody>\n",
              "</table>\n",
              "</div>"
            ],
            "text/plain": [
              "  customer_id product     signup_date_time     cancel_date_time\n",
              "0       C2448   prd_1  2017-01-01 10:35:09                  NaN\n",
              "1       C2449   prd_1  2017-01-01 11:39:29  2021-09-05 10:00:02"
            ]
          },
          "execution_count": 55,
          "metadata": {},
          "output_type": "execute_result"
        }
      ],
      "source": [
        "subscription_df.head(2)"
      ]
    },
    {
      "cell_type": "markdown",
      "metadata": {
        "id": "8ZQyuLC4Y5i3"
      },
      "source": [
        "Applying **info** function to the dataframe to show types of the columns and the NULL values."
      ]
    },
    {
      "cell_type": "code",
      "execution_count": 56,
      "metadata": {
        "colab": {
          "base_uri": "https://localhost:8080/"
        },
        "id": "LQhfSToPnxdn",
        "outputId": "feec90a9-a24e-49d9-e982-2637625a8971"
      },
      "outputs": [
        {
          "name": "stdout",
          "output_type": "stream",
          "text": [
            "<class 'pandas.core.frame.DataFrame'>\n",
            "RangeIndex: 508932 entries, 0 to 508931\n",
            "Data columns (total 4 columns):\n",
            " #   Column            Non-Null Count   Dtype \n",
            "---  ------            --------------   ----- \n",
            " 0   customer_id       508932 non-null  object\n",
            " 1   product           508932 non-null  object\n",
            " 2   signup_date_time  508932 non-null  object\n",
            " 3   cancel_date_time  112485 non-null  object\n",
            "dtypes: object(4)\n",
            "memory usage: 15.5+ MB\n"
          ]
        }
      ],
      "source": [
        "subscription_df.info()"
      ]
    },
    {
      "cell_type": "markdown",
      "metadata": {
        "id": "wMcIZawmwyS5"
      },
      "source": [
        "Loading the PRODUCTs data to dataframe."
      ]
    },
    {
      "cell_type": "code",
      "execution_count": 57,
      "metadata": {
        "id": "3y0a81kxwoqu"
      },
      "outputs": [],
      "source": [
        "product_drive_url = 'https://drive.google.com/file/d/1-X5KLVTf34OuxrnfN_Yb-Pbpw_Eo1dGl/view?usp=sharing'\n",
        "product_df = load_csv_from_drive(product_drive_url)"
      ]
    },
    {
      "cell_type": "markdown",
      "metadata": {
        "id": "pCKz1uV8w2kT"
      },
      "source": [
        "Showing a sample of data to validate the columns."
      ]
    },
    {
      "cell_type": "code",
      "execution_count": 58,
      "metadata": {
        "colab": {
          "base_uri": "https://localhost:8080/",
          "height": 112
        },
        "id": "vbzURDq1wrny",
        "outputId": "bc350cf9-1e95-4b83-9001-980b6cdd893d"
      },
      "outputs": [
        {
          "data": {
            "text/html": [
              "<div>\n",
              "<style scoped>\n",
              "    .dataframe tbody tr th:only-of-type {\n",
              "        vertical-align: middle;\n",
              "    }\n",
              "\n",
              "    .dataframe tbody tr th {\n",
              "        vertical-align: top;\n",
              "    }\n",
              "\n",
              "    .dataframe thead th {\n",
              "        text-align: right;\n",
              "    }\n",
              "</style>\n",
              "<table border=\"1\" class=\"dataframe\">\n",
              "  <thead>\n",
              "    <tr style=\"text-align: right;\">\n",
              "      <th></th>\n",
              "      <th>product_id</th>\n",
              "      <th>name</th>\n",
              "      <th>price</th>\n",
              "      <th>billing_cycle</th>\n",
              "    </tr>\n",
              "  </thead>\n",
              "  <tbody>\n",
              "    <tr>\n",
              "      <th>0</th>\n",
              "      <td>prd_1</td>\n",
              "      <td>annual_subscription</td>\n",
              "      <td>1200</td>\n",
              "      <td>12</td>\n",
              "    </tr>\n",
              "    <tr>\n",
              "      <th>1</th>\n",
              "      <td>prd_2</td>\n",
              "      <td>monthly_subscription</td>\n",
              "      <td>125</td>\n",
              "      <td>1</td>\n",
              "    </tr>\n",
              "  </tbody>\n",
              "</table>\n",
              "</div>"
            ],
            "text/plain": [
              "  product_id                  name  price  billing_cycle\n",
              "0      prd_1   annual_subscription   1200             12\n",
              "1      prd_2  monthly_subscription    125              1"
            ]
          },
          "execution_count": 58,
          "metadata": {},
          "output_type": "execute_result"
        }
      ],
      "source": [
        "product_df.head()"
      ]
    },
    {
      "cell_type": "markdown",
      "metadata": {
        "id": "FFsbFe9_w5N4"
      },
      "source": [
        "Applying **info** function to the dataframe to show types of the columns and the NULL values."
      ]
    },
    {
      "cell_type": "code",
      "execution_count": 59,
      "metadata": {
        "colab": {
          "base_uri": "https://localhost:8080/"
        },
        "id": "gaYti_FxwuC-",
        "outputId": "0f0fb213-bdc3-430f-b2b2-84ecf6899f44"
      },
      "outputs": [
        {
          "name": "stdout",
          "output_type": "stream",
          "text": [
            "<class 'pandas.core.frame.DataFrame'>\n",
            "RangeIndex: 2 entries, 0 to 1\n",
            "Data columns (total 4 columns):\n",
            " #   Column         Non-Null Count  Dtype \n",
            "---  ------         --------------  ----- \n",
            " 0   product_id     2 non-null      object\n",
            " 1   name           2 non-null      object\n",
            " 2   price          2 non-null      int64 \n",
            " 3   billing_cycle  2 non-null      int64 \n",
            "dtypes: int64(2), object(2)\n",
            "memory usage: 192.0+ bytes\n"
          ]
        }
      ],
      "source": [
        "product_df.info()"
      ]
    },
    {
      "cell_type": "markdown",
      "metadata": {
        "id": "oXrVuqYfdcL-"
      },
      "source": [
        "### ANALIZING THE CUSTOMERS"
      ]
    },
    {
      "cell_type": "markdown",
      "metadata": {
        "id": "CxvDoxwRdkPo"
      },
      "source": [
        "#### Calculating the gender percentage"
      ]
    },
    {
      "cell_type": "markdown",
      "metadata": {
        "id": "Vak3obKhksiR"
      },
      "source": [
        "First, calculate the number of times that appears each category."
      ]
    },
    {
      "cell_type": "code",
      "execution_count": 60,
      "metadata": {
        "colab": {
          "base_uri": "https://localhost:8080/"
        },
        "id": "hTOVHjWNjMRZ",
        "outputId": "4c83217d-4260-4abc-d2b3-acac4365ffa0"
      },
      "outputs": [
        {
          "data": {
            "text/plain": [
              "male      309930\n",
              "female    199002\n",
              "Name: gender, dtype: int64"
            ]
          },
          "execution_count": 60,
          "metadata": {},
          "output_type": "execute_result"
        }
      ],
      "source": [
        "customer_df[\"gender\"].value_counts()"
      ]
    },
    {
      "cell_type": "markdown",
      "metadata": {
        "id": "4oQd-X5kk9rV"
      },
      "source": [
        "Second, create different variables with the total rows of the gender column and the total rows of each category."
      ]
    },
    {
      "cell_type": "code",
      "execution_count": 61,
      "metadata": {
        "id": "wgPVvSfJjdMU"
      },
      "outputs": [
        {
          "name": "stdout",
          "output_type": "stream",
          "text": [
            "309930\n"
          ]
        }
      ],
      "source": [
        "m = customer_df[\"gender\"].value_counts()[\"male\"]\n",
        "print(m)"
      ]
    },
    {
      "cell_type": "code",
      "execution_count": 62,
      "metadata": {},
      "outputs": [
        {
          "name": "stdout",
          "output_type": "stream",
          "text": [
            "199002\n"
          ]
        }
      ],
      "source": [
        "f = customer_df[\"gender\"].value_counts()[\"female\"]\n",
        "print(f)"
      ]
    },
    {
      "cell_type": "code",
      "execution_count": 63,
      "metadata": {},
      "outputs": [
        {
          "name": "stdout",
          "output_type": "stream",
          "text": [
            "508932\n"
          ]
        }
      ],
      "source": [
        "total = customer_df.count()[\"customer_id\"]\n",
        "print(total)"
      ]
    },
    {
      "cell_type": "markdown",
      "metadata": {
        "id": "DEAYiLPclN0y"
      },
      "source": [
        "Third, divide the rows of each category by the total of the rows of the column gender and print the percentages."
      ]
    },
    {
      "cell_type": "code",
      "execution_count": 64,
      "metadata": {
        "colab": {
          "base_uri": "https://localhost:8080/"
        },
        "id": "cyVnnkUzjwiY",
        "outputId": "97f75849-8dd7-4b41-cbe7-f2e7c951ca81"
      },
      "outputs": [
        {
          "name": "stdout",
          "output_type": "stream",
          "text": [
            "\n",
            "% of males : 0.608981160547971\n",
            "% of females: 0.391018839452029\n",
            "\n"
          ]
        }
      ],
      "source": [
        "perc_m = m / total\n",
        "perc_f = f / total\n",
        "\n",
        "print(f\"\"\"\n",
        "% of males : {perc_m}\n",
        "% of females: {perc_f}\n",
        "\"\"\")"
      ]
    },
    {
      "cell_type": "markdown",
      "metadata": {
        "id": "b3VGGu4clZCM"
      },
      "source": [
        "Fourth, do the same with a pandas function and print it."
      ]
    },
    {
      "cell_type": "code",
      "execution_count": 65,
      "metadata": {
        "colab": {
          "base_uri": "https://localhost:8080/"
        },
        "id": "45gODoQQdi0c",
        "outputId": "bb75bd9d-e5e4-4997-f32f-5765ee2bdd57"
      },
      "outputs": [
        {
          "data": {
            "text/plain": [
              "male      60.898116\n",
              "female    39.101884\n",
              "Name: gender, dtype: float64"
            ]
          },
          "execution_count": 65,
          "metadata": {},
          "output_type": "execute_result"
        }
      ],
      "source": [
        "customer_df[\"gender\"].value_counts(normalize=True) * 100\n",
        "#normalize=True calculates percentage of data"
      ]
    },
    {
      "cell_type": "markdown",
      "metadata": {
        "id": "GRBECrE8lifL"
      },
      "source": [
        "Last, show the percentages in a pie chart."
      ]
    },
    {
      "cell_type": "code",
      "execution_count": 66,
      "metadata": {
        "colab": {
          "base_uri": "https://localhost:8080/",
          "height": 608
        },
        "id": "2Fub_-ngn04O",
        "outputId": "2efe42f5-b7c4-40c0-d6eb-d7560b6b5055"
      },
      "outputs": [
        {
          "data": {
            "text/plain": [
              "<AxesSubplot:title={'center':'GENDER Percentages'}, ylabel='gender'>"
            ]
          },
          "execution_count": 66,
          "metadata": {},
          "output_type": "execute_result"
        },
        {
          "data": {
            "image/png": "[encoded data removed]",
            "text/plain": [
              "<Figure size 500x500 with 1 Axes>"
            ]
          },
          "metadata": {},
          "output_type": "display_data"
        }
      ],
      "source": [
        "customer_df[\"gender\"].value_counts() \\\n",
        "    .plot.pie(\n",
        "        autopct = '%1.2f%%',\n",
        "        title = \"GENDER Percentages\",\n",
        "        figsize = (5, 5),\n",
        "        fontsize = 10)"
      ]
    },
    {
      "cell_type": "markdown",
      "metadata": {
        "id": "pKRA8gDvqe8h"
      },
      "source": [
        "#### Calculating the mean age by gender"
      ]
    },
    {
      "cell_type": "markdown",
      "metadata": {
        "id": "AMkTKfJVqneX"
      },
      "source": [
        "First, we want to calculate the mean age by gender via groupby and direct calculation of the mean."
      ]
    },
    {
      "cell_type": "code",
      "execution_count": 67,
      "metadata": {
        "colab": {
          "base_uri": "https://localhost:8080/",
          "height": 143
        },
        "id": "eB2geR_2q3Pt",
        "outputId": "974e3cff-d5e5-45a3-a7bb-a0eee49fc86e"
      },
      "outputs": [
        {
          "data": {
            "text/html": [
              "<div>\n",
              "<style scoped>\n",
              "    .dataframe tbody tr th:only-of-type {\n",
              "        vertical-align: middle;\n",
              "    }\n",
              "\n",
              "    .dataframe tbody tr th {\n",
              "        vertical-align: top;\n",
              "    }\n",
              "\n",
              "    .dataframe thead th {\n",
              "        text-align: right;\n",
              "    }\n",
              "</style>\n",
              "<table border=\"1\" class=\"dataframe\">\n",
              "  <thead>\n",
              "    <tr style=\"text-align: right;\">\n",
              "      <th></th>\n",
              "      <th>age</th>\n",
              "    </tr>\n",
              "    <tr>\n",
              "      <th>gender</th>\n",
              "      <th></th>\n",
              "    </tr>\n",
              "  </thead>\n",
              "  <tbody>\n",
              "    <tr>\n",
              "      <th>female</th>\n",
              "      <td>58.340725</td>\n",
              "    </tr>\n",
              "    <tr>\n",
              "      <th>male</th>\n",
              "      <td>58.557981</td>\n",
              "    </tr>\n",
              "  </tbody>\n",
              "</table>\n",
              "</div>"
            ],
            "text/plain": [
              "              age\n",
              "gender           \n",
              "female  58.340725\n",
              "male    58.557981"
            ]
          },
          "execution_count": 67,
          "metadata": {},
          "output_type": "execute_result"
        }
      ],
      "source": [
        "customer_df.groupby([\"gender\"]).mean()"
      ]
    },
    {
      "cell_type": "markdown",
      "metadata": {
        "id": "Wnb78Cl5sUC1"
      },
      "source": [
        "Show me the data in a bar plot."
      ]
    },
    {
      "cell_type": "code",
      "execution_count": 68,
      "metadata": {
        "colab": {
          "base_uri": "https://localhost:8080/",
          "height": 663
        },
        "id": "cdDRdldNsY9J",
        "outputId": "34c68297-e713-4dd3-ab6e-ad2548c3dc25"
      },
      "outputs": [
        {
          "data": {
            "text/plain": [
              "(58.0, 59.0)"
            ]
          },
          "execution_count": 68,
          "metadata": {},
          "output_type": "execute_result"
        },
        {
          "data": {
            "image/png": "[encoded data removed]",
            "text/plain": [
              "<Figure size 500x500 with 1 Axes>"
            ]
          },
          "metadata": {},
          "output_type": "display_data"
        }
      ],
      "source": [
        "ax = customer_df.groupby([\"gender\"]).mean() \\\n",
        "    .plot.bar(\n",
        "        title = \"GENDER Mean\",\n",
        "        figsize = (5, 5),\n",
        "        yticks = [x/10 for x in range(580, 600)])\n",
        "ax.set_ylim(58, 59)"
      ]
    },
    {
      "cell_type": "markdown",
      "metadata": {
        "id": "b9akakRxrfOO"
      },
      "source": [
        "Can we calculate the median, mode, min and max by gender too?"
      ]
    },
    {
      "cell_type": "code",
      "execution_count": 69,
      "metadata": {
        "colab": {
          "base_uri": "https://localhost:8080/",
          "height": 175
        },
        "id": "IR_p4xa7rp0U",
        "outputId": "7a762f14-ae5d-456c-bbfc-36e11425b6db"
      },
      "outputs": [
        {
          "data": {
            "text/html": [
              "<div>\n",
              "<style scoped>\n",
              "    .dataframe tbody tr th:only-of-type {\n",
              "        vertical-align: middle;\n",
              "    }\n",
              "\n",
              "    .dataframe tbody tr th {\n",
              "        vertical-align: top;\n",
              "    }\n",
              "\n",
              "    .dataframe thead tr th {\n",
              "        text-align: left;\n",
              "    }\n",
              "\n",
              "    .dataframe thead tr:last-of-type th {\n",
              "        text-align: right;\n",
              "    }\n",
              "</style>\n",
              "<table border=\"1\" class=\"dataframe\">\n",
              "  <thead>\n",
              "    <tr>\n",
              "      <th></th>\n",
              "      <th colspan=\"5\" halign=\"left\">age</th>\n",
              "    </tr>\n",
              "    <tr>\n",
              "      <th></th>\n",
              "      <th>mean</th>\n",
              "      <th>min</th>\n",
              "      <th>max</th>\n",
              "      <th>median</th>\n",
              "      <th>std</th>\n",
              "    </tr>\n",
              "    <tr>\n",
              "      <th>gender</th>\n",
              "      <th></th>\n",
              "      <th></th>\n",
              "      <th></th>\n",
              "      <th></th>\n",
              "      <th></th>\n",
              "    </tr>\n",
              "  </thead>\n",
              "  <tbody>\n",
              "    <tr>\n",
              "      <th>female</th>\n",
              "      <td>58.340725</td>\n",
              "      <td>21</td>\n",
              "      <td>78</td>\n",
              "      <td>59.0</td>\n",
              "      <td>8.496566</td>\n",
              "    </tr>\n",
              "    <tr>\n",
              "      <th>male</th>\n",
              "      <td>58.557981</td>\n",
              "      <td>22</td>\n",
              "      <td>78</td>\n",
              "      <td>59.0</td>\n",
              "      <td>8.098922</td>\n",
              "    </tr>\n",
              "  </tbody>\n",
              "</table>\n",
              "</div>"
            ],
            "text/plain": [
              "              age                         \n",
              "             mean min max median       std\n",
              "gender                                    \n",
              "female  58.340725  21  78   59.0  8.496566\n",
              "male    58.557981  22  78   59.0  8.098922"
            ]
          },
          "execution_count": 69,
          "metadata": {},
          "output_type": "execute_result"
        }
      ],
      "source": [
        "customer_df.groupby([\"gender\"]).agg({\n",
        "    \"age\": [\"mean\", \"min\", \"max\", \"median\", \"std\"]\n",
        "})"
      ]
    },
    {
      "cell_type": "markdown",
      "metadata": {
        "id": "sfVUyubMc4QK"
      },
      "source": [
        "### ANALIZING THE SUBSCRIPTIONS"
      ]
    },
    {
      "cell_type": "markdown",
      "metadata": {
        "id": "LjXyFTgeuS0g"
      },
      "source": [
        "#### Calculating the mean days of subscription per product type"
      ]
    },
    {
      "cell_type": "markdown",
      "metadata": {
        "id": "3rjtzJVmag1M"
      },
      "source": [
        "Changing the dates with object type to datetimes to work with."
      ]
    },
    {
      "cell_type": "code",
      "execution_count": 70,
      "metadata": {
        "id": "yJq-Ia1EoDa3"
      },
      "outputs": [],
      "source": [
        "subscription_df[\"signup_date_time\"] = \\\n",
        "    pd.to_datetime(subscription_df[\"signup_date_time\"])\n",
        "subscription_df[\"cancel_date_time\"] = \\\n",
        "    pd.to_datetime(subscription_df[\"cancel_date_time\"])"
      ]
    },
    {
      "cell_type": "code",
      "execution_count": 71,
      "metadata": {
        "colab": {
          "base_uri": "https://localhost:8080/"
        },
        "id": "bodQNkHfaprw",
        "outputId": "68ff78f2-ff0e-4cfc-b18a-22c79181d2a6"
      },
      "outputs": [
        {
          "name": "stdout",
          "output_type": "stream",
          "text": [
            "<class 'pandas.core.frame.DataFrame'>\n",
            "RangeIndex: 508932 entries, 0 to 508931\n",
            "Data columns (total 4 columns):\n",
            " #   Column            Non-Null Count   Dtype         \n",
            "---  ------            --------------   -----         \n",
            " 0   customer_id       508932 non-null  object        \n",
            " 1   product           508932 non-null  object        \n",
            " 2   signup_date_time  508932 non-null  datetime64[ns]\n",
            " 3   cancel_date_time  112485 non-null  datetime64[ns]\n",
            "dtypes: datetime64[ns](2), object(2)\n",
            "memory usage: 15.5+ MB\n"
          ]
        }
      ],
      "source": [
        "subscription_df.info()"
      ]
    },
    {
      "cell_type": "code",
      "execution_count": 72,
      "metadata": {},
      "outputs": [
        {
          "data": {
            "text/html": [
              "<div>\n",
              "<style scoped>\n",
              "    .dataframe tbody tr th:only-of-type {\n",
              "        vertical-align: middle;\n",
              "    }\n",
              "\n",
              "    .dataframe tbody tr th {\n",
              "        vertical-align: top;\n",
              "    }\n",
              "\n",
              "    .dataframe thead th {\n",
              "        text-align: right;\n",
              "    }\n",
              "</style>\n",
              "<table border=\"1\" class=\"dataframe\">\n",
              "  <thead>\n",
              "    <tr style=\"text-align: right;\">\n",
              "      <th></th>\n",
              "      <th>customer_id</th>\n",
              "      <th>product</th>\n",
              "      <th>signup_date_time</th>\n",
              "      <th>cancel_date_time</th>\n",
              "    </tr>\n",
              "  </thead>\n",
              "  <tbody>\n",
              "    <tr>\n",
              "      <th>0</th>\n",
              "      <td>C2448</td>\n",
              "      <td>prd_1</td>\n",
              "      <td>2017-01-01 10:35:09</td>\n",
              "      <td>NaT</td>\n",
              "    </tr>\n",
              "    <tr>\n",
              "      <th>1</th>\n",
              "      <td>C2449</td>\n",
              "      <td>prd_1</td>\n",
              "      <td>2017-01-01 11:39:29</td>\n",
              "      <td>2021-09-05 10:00:02</td>\n",
              "    </tr>\n",
              "    <tr>\n",
              "      <th>2</th>\n",
              "      <td>C2450</td>\n",
              "      <td>prd_1</td>\n",
              "      <td>2017-01-01 11:42:00</td>\n",
              "      <td>2019-01-13 16:24:55</td>\n",
              "    </tr>\n",
              "    <tr>\n",
              "      <th>3</th>\n",
              "      <td>C2451</td>\n",
              "      <td>prd_2</td>\n",
              "      <td>2017-01-01 13:32:08</td>\n",
              "      <td>NaT</td>\n",
              "    </tr>\n",
              "    <tr>\n",
              "      <th>4</th>\n",
              "      <td>C2452</td>\n",
              "      <td>prd_1</td>\n",
              "      <td>2017-01-01 13:57:30</td>\n",
              "      <td>2021-06-28 18:06:01</td>\n",
              "    </tr>\n",
              "  </tbody>\n",
              "</table>\n",
              "</div>"
            ],
            "text/plain": [
              "  customer_id product    signup_date_time    cancel_date_time\n",
              "0       C2448   prd_1 2017-01-01 10:35:09                 NaT\n",
              "1       C2449   prd_1 2017-01-01 11:39:29 2021-09-05 10:00:02\n",
              "2       C2450   prd_1 2017-01-01 11:42:00 2019-01-13 16:24:55\n",
              "3       C2451   prd_2 2017-01-01 13:32:08                 NaT\n",
              "4       C2452   prd_1 2017-01-01 13:57:30 2021-06-28 18:06:01"
            ]
          },
          "execution_count": 72,
          "metadata": {},
          "output_type": "execute_result"
        }
      ],
      "source": [
        "subscription_df.head(5)"
      ]
    },
    {
      "cell_type": "code",
      "execution_count": 73,
      "metadata": {
        "colab": {
          "base_uri": "https://localhost:8080/",
          "height": 112
        },
        "id": "5nuyJg2QocoL",
        "outputId": "d853aa5f-697d-4a67-974e-cef11649675e"
      },
      "outputs": [
        {
          "data": {
            "text/html": [
              "<div>\n",
              "<style scoped>\n",
              "    .dataframe tbody tr th:only-of-type {\n",
              "        vertical-align: middle;\n",
              "    }\n",
              "\n",
              "    .dataframe tbody tr th {\n",
              "        vertical-align: top;\n",
              "    }\n",
              "\n",
              "    .dataframe thead th {\n",
              "        text-align: right;\n",
              "    }\n",
              "</style>\n",
              "<table border=\"1\" class=\"dataframe\">\n",
              "  <thead>\n",
              "    <tr style=\"text-align: right;\">\n",
              "      <th></th>\n",
              "      <th>customer_id</th>\n",
              "      <th>product</th>\n",
              "      <th>signup_date_time</th>\n",
              "      <th>cancel_date_time</th>\n",
              "    </tr>\n",
              "  </thead>\n",
              "  <tbody>\n",
              "    <tr>\n",
              "      <th>0</th>\n",
              "      <td>C2448</td>\n",
              "      <td>prd_1</td>\n",
              "      <td>2017-01-01 10:35:09</td>\n",
              "      <td>NaT</td>\n",
              "    </tr>\n",
              "    <tr>\n",
              "      <th>1</th>\n",
              "      <td>C2449</td>\n",
              "      <td>prd_1</td>\n",
              "      <td>2017-01-01 11:39:29</td>\n",
              "      <td>2021-09-05 10:00:02</td>\n",
              "    </tr>\n",
              "  </tbody>\n",
              "</table>\n",
              "</div>"
            ],
            "text/plain": [
              "  customer_id product    signup_date_time    cancel_date_time\n",
              "0       C2448   prd_1 2017-01-01 10:35:09                 NaT\n",
              "1       C2449   prd_1 2017-01-01 11:39:29 2021-09-05 10:00:02"
            ]
          },
          "execution_count": 73,
          "metadata": {},
          "output_type": "execute_result"
        }
      ],
      "source": [
        "subscription_df.head(2)"
      ]
    },
    {
      "cell_type": "markdown",
      "metadata": {
        "id": "Qim0_7Mou-Od"
      },
      "source": [
        "Understand the dates and substitute nulls if it is needed.  \n",
        "*Tip: To substituite the nulls, the last day will be 2021-12-31.*"
      ]
    },
    {
      "cell_type": "code",
      "execution_count": 74,
      "metadata": {},
      "outputs": [
        {
          "data": {
            "text/html": [
              "<div>\n",
              "<style scoped>\n",
              "    .dataframe tbody tr th:only-of-type {\n",
              "        vertical-align: middle;\n",
              "    }\n",
              "\n",
              "    .dataframe tbody tr th {\n",
              "        vertical-align: top;\n",
              "    }\n",
              "\n",
              "    .dataframe thead th {\n",
              "        text-align: right;\n",
              "    }\n",
              "</style>\n",
              "<table border=\"1\" class=\"dataframe\">\n",
              "  <thead>\n",
              "    <tr style=\"text-align: right;\">\n",
              "      <th></th>\n",
              "      <th>customer_id</th>\n",
              "      <th>product</th>\n",
              "      <th>signup_date_time</th>\n",
              "      <th>cancel_date_time</th>\n",
              "    </tr>\n",
              "  </thead>\n",
              "  <tbody>\n",
              "    <tr>\n",
              "      <th>0</th>\n",
              "      <td>C2448</td>\n",
              "      <td>prd_1</td>\n",
              "      <td>2017-01-01 10:35:09</td>\n",
              "      <td>NaT</td>\n",
              "    </tr>\n",
              "    <tr>\n",
              "      <th>1</th>\n",
              "      <td>C2449</td>\n",
              "      <td>prd_1</td>\n",
              "      <td>2017-01-01 11:39:29</td>\n",
              "      <td>2021-09-05 10:00:02</td>\n",
              "    </tr>\n",
              "    <tr>\n",
              "      <th>2</th>\n",
              "      <td>C2450</td>\n",
              "      <td>prd_1</td>\n",
              "      <td>2017-01-01 11:42:00</td>\n",
              "      <td>2019-01-13 16:24:55</td>\n",
              "    </tr>\n",
              "    <tr>\n",
              "      <th>3</th>\n",
              "      <td>C2451</td>\n",
              "      <td>prd_2</td>\n",
              "      <td>2017-01-01 13:32:08</td>\n",
              "      <td>NaT</td>\n",
              "    </tr>\n",
              "    <tr>\n",
              "      <th>4</th>\n",
              "      <td>C2452</td>\n",
              "      <td>prd_1</td>\n",
              "      <td>2017-01-01 13:57:30</td>\n",
              "      <td>2021-06-28 18:06:01</td>\n",
              "    </tr>\n",
              "    <tr>\n",
              "      <th>...</th>\n",
              "      <td>...</td>\n",
              "      <td>...</td>\n",
              "      <td>...</td>\n",
              "      <td>...</td>\n",
              "    </tr>\n",
              "    <tr>\n",
              "      <th>508927</th>\n",
              "      <td>C511375</td>\n",
              "      <td>prd_2</td>\n",
              "      <td>2021-12-31 18:37:58</td>\n",
              "      <td>NaT</td>\n",
              "    </tr>\n",
              "    <tr>\n",
              "      <th>508928</th>\n",
              "      <td>C511376</td>\n",
              "      <td>prd_2</td>\n",
              "      <td>2021-12-31 18:42:00</td>\n",
              "      <td>NaT</td>\n",
              "    </tr>\n",
              "    <tr>\n",
              "      <th>508929</th>\n",
              "      <td>C511377</td>\n",
              "      <td>prd_2</td>\n",
              "      <td>2021-12-31 18:50:53</td>\n",
              "      <td>NaT</td>\n",
              "    </tr>\n",
              "    <tr>\n",
              "      <th>508930</th>\n",
              "      <td>C511378</td>\n",
              "      <td>prd_2</td>\n",
              "      <td>2021-12-31 19:00:38</td>\n",
              "      <td>NaT</td>\n",
              "    </tr>\n",
              "    <tr>\n",
              "      <th>508931</th>\n",
              "      <td>C511379</td>\n",
              "      <td>prd_2</td>\n",
              "      <td>2021-12-31 19:38:21</td>\n",
              "      <td>NaT</td>\n",
              "    </tr>\n",
              "  </tbody>\n",
              "</table>\n",
              "<p>508932 rows × 4 columns</p>\n",
              "</div>"
            ],
            "text/plain": [
              "       customer_id product    signup_date_time    cancel_date_time\n",
              "0            C2448   prd_1 2017-01-01 10:35:09                 NaT\n",
              "1            C2449   prd_1 2017-01-01 11:39:29 2021-09-05 10:00:02\n",
              "2            C2450   prd_1 2017-01-01 11:42:00 2019-01-13 16:24:55\n",
              "3            C2451   prd_2 2017-01-01 13:32:08                 NaT\n",
              "4            C2452   prd_1 2017-01-01 13:57:30 2021-06-28 18:06:01\n",
              "...            ...     ...                 ...                 ...\n",
              "508927     C511375   prd_2 2021-12-31 18:37:58                 NaT\n",
              "508928     C511376   prd_2 2021-12-31 18:42:00                 NaT\n",
              "508929     C511377   prd_2 2021-12-31 18:50:53                 NaT\n",
              "508930     C511378   prd_2 2021-12-31 19:00:38                 NaT\n",
              "508931     C511379   prd_2 2021-12-31 19:38:21                 NaT\n",
              "\n",
              "[508932 rows x 4 columns]"
            ]
          },
          "execution_count": 74,
          "metadata": {},
          "output_type": "execute_result"
        }
      ],
      "source": [
        "dt = datetime.datetime(year = 2021, month = 12, day = 31)\n",
        "subscription_df"
      ]
    },
    {
      "cell_type": "code",
      "execution_count": 75,
      "metadata": {
        "colab": {
          "base_uri": "https://localhost:8080/",
          "height": 112
        },
        "id": "RwH14VKdvCxs",
        "outputId": "d9e266bb-6817-4f03-aeba-b8688853cad1"
      },
      "outputs": [
        {
          "data": {
            "text/html": [
              "<div>\n",
              "<style scoped>\n",
              "    .dataframe tbody tr th:only-of-type {\n",
              "        vertical-align: middle;\n",
              "    }\n",
              "\n",
              "    .dataframe tbody tr th {\n",
              "        vertical-align: top;\n",
              "    }\n",
              "\n",
              "    .dataframe thead th {\n",
              "        text-align: right;\n",
              "    }\n",
              "</style>\n",
              "<table border=\"1\" class=\"dataframe\">\n",
              "  <thead>\n",
              "    <tr style=\"text-align: right;\">\n",
              "      <th></th>\n",
              "      <th>customer_id</th>\n",
              "      <th>product</th>\n",
              "      <th>signup_date_time</th>\n",
              "      <th>cancel_date_time</th>\n",
              "    </tr>\n",
              "  </thead>\n",
              "  <tbody>\n",
              "    <tr>\n",
              "      <th>0</th>\n",
              "      <td>C2448</td>\n",
              "      <td>prd_1</td>\n",
              "      <td>2017-01-01 10:35:09</td>\n",
              "      <td>2021-12-31 00:00:00</td>\n",
              "    </tr>\n",
              "    <tr>\n",
              "      <th>1</th>\n",
              "      <td>C2449</td>\n",
              "      <td>prd_1</td>\n",
              "      <td>2017-01-01 11:39:29</td>\n",
              "      <td>2021-09-05 10:00:02</td>\n",
              "    </tr>\n",
              "  </tbody>\n",
              "</table>\n",
              "</div>"
            ],
            "text/plain": [
              "  customer_id product    signup_date_time    cancel_date_time\n",
              "0       C2448   prd_1 2017-01-01 10:35:09 2021-12-31 00:00:00\n",
              "1       C2449   prd_1 2017-01-01 11:39:29 2021-09-05 10:00:02"
            ]
          },
          "execution_count": 75,
          "metadata": {},
          "output_type": "execute_result"
        }
      ],
      "source": [
        "last_day_dt = datetime.datetime(\n",
        "        year = 2021, month = 12, day = 31)\n",
        "subscription_df['cancel_date_time'] = \\\n",
        "subscription_df['cancel_date_time'].fillna(last_day_dt)\n",
        "subscription_df.head(2)"
      ]
    },
    {
      "cell_type": "markdown",
      "metadata": {
        "id": "J60KgQrkbGpb"
      },
      "source": [
        "Make a new column to show the difference between signup date and cancel_date in days"
      ]
    },
    {
      "cell_type": "code",
      "execution_count": 76,
      "metadata": {
        "id": "lWThWoAMtQVU"
      },
      "outputs": [
        {
          "data": {
            "text/html": [
              "<div>\n",
              "<style scoped>\n",
              "    .dataframe tbody tr th:only-of-type {\n",
              "        vertical-align: middle;\n",
              "    }\n",
              "\n",
              "    .dataframe tbody tr th {\n",
              "        vertical-align: top;\n",
              "    }\n",
              "\n",
              "    .dataframe thead th {\n",
              "        text-align: right;\n",
              "    }\n",
              "</style>\n",
              "<table border=\"1\" class=\"dataframe\">\n",
              "  <thead>\n",
              "    <tr style=\"text-align: right;\">\n",
              "      <th></th>\n",
              "      <th>customer_id</th>\n",
              "      <th>product</th>\n",
              "      <th>signup_date_time</th>\n",
              "      <th>cancel_date_time</th>\n",
              "      <th>diff</th>\n",
              "      <th>diff_days</th>\n",
              "    </tr>\n",
              "  </thead>\n",
              "  <tbody>\n",
              "    <tr>\n",
              "      <th>0</th>\n",
              "      <td>C2448</td>\n",
              "      <td>prd_1</td>\n",
              "      <td>2017-01-01 10:35:09</td>\n",
              "      <td>2021-12-31 00:00:00</td>\n",
              "      <td>1824 days 13:24:51</td>\n",
              "      <td>1824</td>\n",
              "    </tr>\n",
              "    <tr>\n",
              "      <th>1</th>\n",
              "      <td>C2449</td>\n",
              "      <td>prd_1</td>\n",
              "      <td>2017-01-01 11:39:29</td>\n",
              "      <td>2021-09-05 10:00:02</td>\n",
              "      <td>1707 days 22:20:33</td>\n",
              "      <td>1707</td>\n",
              "    </tr>\n",
              "    <tr>\n",
              "      <th>2</th>\n",
              "      <td>C2450</td>\n",
              "      <td>prd_1</td>\n",
              "      <td>2017-01-01 11:42:00</td>\n",
              "      <td>2019-01-13 16:24:55</td>\n",
              "      <td>742 days 04:42:55</td>\n",
              "      <td>742</td>\n",
              "    </tr>\n",
              "    <tr>\n",
              "      <th>3</th>\n",
              "      <td>C2451</td>\n",
              "      <td>prd_2</td>\n",
              "      <td>2017-01-01 13:32:08</td>\n",
              "      <td>2021-12-31 00:00:00</td>\n",
              "      <td>1824 days 10:27:52</td>\n",
              "      <td>1824</td>\n",
              "    </tr>\n",
              "    <tr>\n",
              "      <th>4</th>\n",
              "      <td>C2452</td>\n",
              "      <td>prd_1</td>\n",
              "      <td>2017-01-01 13:57:30</td>\n",
              "      <td>2021-06-28 18:06:01</td>\n",
              "      <td>1639 days 04:08:31</td>\n",
              "      <td>1639</td>\n",
              "    </tr>\n",
              "  </tbody>\n",
              "</table>\n",
              "</div>"
            ],
            "text/plain": [
              "  customer_id product    signup_date_time    cancel_date_time  \\\n",
              "0       C2448   prd_1 2017-01-01 10:35:09 2021-12-31 00:00:00   \n",
              "1       C2449   prd_1 2017-01-01 11:39:29 2021-09-05 10:00:02   \n",
              "2       C2450   prd_1 2017-01-01 11:42:00 2019-01-13 16:24:55   \n",
              "3       C2451   prd_2 2017-01-01 13:32:08 2021-12-31 00:00:00   \n",
              "4       C2452   prd_1 2017-01-01 13:57:30 2021-06-28 18:06:01   \n",
              "\n",
              "                diff  diff_days  \n",
              "0 1824 days 13:24:51       1824  \n",
              "1 1707 days 22:20:33       1707  \n",
              "2  742 days 04:42:55        742  \n",
              "3 1824 days 10:27:52       1824  \n",
              "4 1639 days 04:08:31       1639  "
            ]
          },
          "execution_count": 76,
          "metadata": {},
          "output_type": "execute_result"
        }
      ],
      "source": [
        "subscription_df['diff'] = subscription_df['cancel_date_time'] \\\n",
        "    - subscription_df['signup_date_time']\n",
        "\n",
        "subscription_df[\"diff_days\"] = subscription_df['diff'].dt.days.astype(int)\n",
        "subscription_df.head()"
      ]
    },
    {
      "cell_type": "code",
      "execution_count": 77,
      "metadata": {
        "colab": {
          "base_uri": "https://localhost:8080/"
        },
        "id": "9tMNk_TkbXvz",
        "outputId": "d01068ca-ad74-461b-8d09-d9923f846264"
      },
      "outputs": [
        {
          "data": {
            "text/plain": [
              "count    508932.000000\n",
              "mean        582.082372\n",
              "std         425.204482\n",
              "min          -1.000000\n",
              "25%         238.000000\n",
              "50%         504.000000\n",
              "75%         857.000000\n",
              "max        1824.000000\n",
              "Name: diff_days, dtype: float64"
            ]
          },
          "execution_count": 77,
          "metadata": {},
          "output_type": "execute_result"
        }
      ],
      "source": [
        "subscription_df[\"diff_days\"].describe()"
      ]
    },
    {
      "cell_type": "markdown",
      "metadata": {
        "id": "k1_gsWK1xcDR"
      },
      "source": [
        "Now, we want to calculate the mean days of subscription by product via groupby and direct calculation of the mean."
      ]
    },
    {
      "cell_type": "code",
      "execution_count": 78,
      "metadata": {
        "colab": {
          "base_uri": "https://localhost:8080/",
          "height": 143
        },
        "id": "uELY1Q5zoi0t",
        "outputId": "33b14914-53d9-40e5-9f94-b9558613009d"
      },
      "outputs": [
        {
          "data": {
            "text/html": [
              "<div>\n",
              "<style scoped>\n",
              "    .dataframe tbody tr th:only-of-type {\n",
              "        vertical-align: middle;\n",
              "    }\n",
              "\n",
              "    .dataframe tbody tr th {\n",
              "        vertical-align: top;\n",
              "    }\n",
              "\n",
              "    .dataframe thead th {\n",
              "        text-align: right;\n",
              "    }\n",
              "</style>\n",
              "<table border=\"1\" class=\"dataframe\">\n",
              "  <thead>\n",
              "    <tr style=\"text-align: right;\">\n",
              "      <th></th>\n",
              "      <th>diff_days</th>\n",
              "    </tr>\n",
              "    <tr>\n",
              "      <th>product</th>\n",
              "      <th></th>\n",
              "    </tr>\n",
              "  </thead>\n",
              "  <tbody>\n",
              "    <tr>\n",
              "      <th>prd_1</th>\n",
              "      <td>660.457929</td>\n",
              "    </tr>\n",
              "    <tr>\n",
              "      <th>prd_2</th>\n",
              "      <td>442.828206</td>\n",
              "    </tr>\n",
              "  </tbody>\n",
              "</table>\n",
              "</div>"
            ],
            "text/plain": [
              "          diff_days\n",
              "product            \n",
              "prd_1    660.457929\n",
              "prd_2    442.828206"
            ]
          },
          "execution_count": 78,
          "metadata": {},
          "output_type": "execute_result"
        }
      ],
      "source": [
        "subscription_df.groupby([\"product\"]).mean()"
      ]
    },
    {
      "cell_type": "markdown",
      "metadata": {
        "id": "nSu4PIyByQZG"
      },
      "source": [
        "Show me the data in a bar plot with the name of the product.  \n",
        "*Tip: first you need to join subscription dataframe with product dataframe*"
      ]
    },
    {
      "cell_type": "code",
      "execution_count": null,
      "metadata": {
        "colab": {
          "base_uri": "https://localhost:8080/",
          "height": 175
        },
        "id": "mvzobCRvydj0",
        "outputId": "e46b3ef1-0c36-48d5-c7ad-b9d8212427e5"
      },
      "outputs": [],
      "source": []
    },
    {
      "cell_type": "code",
      "execution_count": null,
      "metadata": {
        "colab": {
          "base_uri": "https://localhost:8080/",
          "height": 719
        },
        "id": "4MDtxHCWpyIq",
        "outputId": "e4fb7477-1450-4387-fc6d-66d4563aa0d0"
      },
      "outputs": [],
      "source": []
    },
    {
      "cell_type": "markdown",
      "metadata": {
        "id": "JiNDRxKI0hqH"
      },
      "source": [
        "#### Calculating the mean incomes per client by subscription type"
      ]
    },
    {
      "cell_type": "markdown",
      "metadata": {
        "id": "rlnWaR9N00qn"
      },
      "source": [
        "In this case we want to join all the dataframes in one to calculate the incomes more easy. Join all the dataframes in one."
      ]
    },
    {
      "cell_type": "code",
      "execution_count": 79,
      "metadata": {
        "colab": {
          "base_uri": "https://localhost:8080/",
          "height": 112
        },
        "id": "5MVOeiXp0rVK",
        "outputId": "1783ea05-9e1c-4f30-9757-d23900ef1fbf"
      },
      "outputs": [
        {
          "data": {
            "text/html": [
              "<div>\n",
              "<style scoped>\n",
              "    .dataframe tbody tr th:only-of-type {\n",
              "        vertical-align: middle;\n",
              "    }\n",
              "\n",
              "    .dataframe tbody tr th {\n",
              "        vertical-align: top;\n",
              "    }\n",
              "\n",
              "    .dataframe thead th {\n",
              "        text-align: right;\n",
              "    }\n",
              "</style>\n",
              "<table border=\"1\" class=\"dataframe\">\n",
              "  <thead>\n",
              "    <tr style=\"text-align: right;\">\n",
              "      <th></th>\n",
              "      <th>customer_id</th>\n",
              "      <th>age</th>\n",
              "      <th>gender</th>\n",
              "      <th>product</th>\n",
              "      <th>signup_date_time</th>\n",
              "      <th>cancel_date_time</th>\n",
              "      <th>diff</th>\n",
              "      <th>diff_days</th>\n",
              "      <th>product_id</th>\n",
              "      <th>name</th>\n",
              "      <th>price</th>\n",
              "      <th>billing_cycle</th>\n",
              "    </tr>\n",
              "  </thead>\n",
              "  <tbody>\n",
              "    <tr>\n",
              "      <th>0</th>\n",
              "      <td>C2448</td>\n",
              "      <td>76</td>\n",
              "      <td>female</td>\n",
              "      <td>prd_1</td>\n",
              "      <td>2017-01-01 10:35:09</td>\n",
              "      <td>2021-12-31 00:00:00</td>\n",
              "      <td>1824 days 13:24:51</td>\n",
              "      <td>1824</td>\n",
              "      <td>prd_1</td>\n",
              "      <td>annual_subscription</td>\n",
              "      <td>1200</td>\n",
              "      <td>12</td>\n",
              "    </tr>\n",
              "    <tr>\n",
              "      <th>1</th>\n",
              "      <td>C2449</td>\n",
              "      <td>61</td>\n",
              "      <td>male</td>\n",
              "      <td>prd_1</td>\n",
              "      <td>2017-01-01 11:39:29</td>\n",
              "      <td>2021-09-05 10:00:02</td>\n",
              "      <td>1707 days 22:20:33</td>\n",
              "      <td>1707</td>\n",
              "      <td>prd_1</td>\n",
              "      <td>annual_subscription</td>\n",
              "      <td>1200</td>\n",
              "      <td>12</td>\n",
              "    </tr>\n",
              "  </tbody>\n",
              "</table>\n",
              "</div>"
            ],
            "text/plain": [
              "  customer_id  age  gender product    signup_date_time    cancel_date_time  \\\n",
              "0       C2448   76  female   prd_1 2017-01-01 10:35:09 2021-12-31 00:00:00   \n",
              "1       C2449   61    male   prd_1 2017-01-01 11:39:29 2021-09-05 10:00:02   \n",
              "\n",
              "                diff  diff_days product_id                 name  price  \\\n",
              "0 1824 days 13:24:51       1824      prd_1  annual_subscription   1200   \n",
              "1 1707 days 22:20:33       1707      prd_1  annual_subscription   1200   \n",
              "\n",
              "   billing_cycle  \n",
              "0             12  \n",
              "1             12  "
            ]
          },
          "execution_count": 79,
          "metadata": {},
          "output_type": "execute_result"
        }
      ],
      "source": [
        "master_df = customer_df.merge(\n",
        "    subscription_df, on = \"customer_id\").merge(\n",
        "    product_df, left_on = \"product\", right_on = \"product_id\")\n",
        "master_df.head(2)"
      ]
    },
    {
      "cell_type": "markdown",
      "metadata": {
        "id": "l6ySCjg212tj"
      },
      "source": [
        "Delete all the columns that you dont need. And generate a new one with only the year:"
      ]
    },
    {
      "cell_type": "code",
      "execution_count": 80,
      "metadata": {
        "colab": {
          "base_uri": "https://localhost:8080/",
          "height": 112
        },
        "id": "wkx_1_kH116A",
        "outputId": "c0297322-55d0-40c4-d2c1-ae8bc7a72e1e"
      },
      "outputs": [
        {
          "data": {
            "text/html": [
              "<div>\n",
              "<style scoped>\n",
              "    .dataframe tbody tr th:only-of-type {\n",
              "        vertical-align: middle;\n",
              "    }\n",
              "\n",
              "    .dataframe tbody tr th {\n",
              "        vertical-align: top;\n",
              "    }\n",
              "\n",
              "    .dataframe thead th {\n",
              "        text-align: right;\n",
              "    }\n",
              "</style>\n",
              "<table border=\"1\" class=\"dataframe\">\n",
              "  <thead>\n",
              "    <tr style=\"text-align: right;\">\n",
              "      <th></th>\n",
              "      <th>customer_id</th>\n",
              "      <th>age</th>\n",
              "      <th>gender</th>\n",
              "      <th>signup_date_time</th>\n",
              "      <th>cancel_date_time</th>\n",
              "      <th>diff</th>\n",
              "      <th>diff_days</th>\n",
              "      <th>name</th>\n",
              "      <th>price</th>\n",
              "      <th>billing_cycle</th>\n",
              "    </tr>\n",
              "  </thead>\n",
              "  <tbody>\n",
              "    <tr>\n",
              "      <th>0</th>\n",
              "      <td>C2448</td>\n",
              "      <td>76</td>\n",
              "      <td>female</td>\n",
              "      <td>2017-01-01 10:35:09</td>\n",
              "      <td>2021-12-31 00:00:00</td>\n",
              "      <td>1824 days 13:24:51</td>\n",
              "      <td>1824</td>\n",
              "      <td>annual_subscription</td>\n",
              "      <td>1200</td>\n",
              "      <td>12</td>\n",
              "    </tr>\n",
              "    <tr>\n",
              "      <th>1</th>\n",
              "      <td>C2449</td>\n",
              "      <td>61</td>\n",
              "      <td>male</td>\n",
              "      <td>2017-01-01 11:39:29</td>\n",
              "      <td>2021-09-05 10:00:02</td>\n",
              "      <td>1707 days 22:20:33</td>\n",
              "      <td>1707</td>\n",
              "      <td>annual_subscription</td>\n",
              "      <td>1200</td>\n",
              "      <td>12</td>\n",
              "    </tr>\n",
              "  </tbody>\n",
              "</table>\n",
              "</div>"
            ],
            "text/plain": [
              "  customer_id  age  gender    signup_date_time    cancel_date_time  \\\n",
              "0       C2448   76  female 2017-01-01 10:35:09 2021-12-31 00:00:00   \n",
              "1       C2449   61    male 2017-01-01 11:39:29 2021-09-05 10:00:02   \n",
              "\n",
              "                diff  diff_days                 name  price  billing_cycle  \n",
              "0 1824 days 13:24:51       1824  annual_subscription   1200             12  \n",
              "1 1707 days 22:20:33       1707  annual_subscription   1200             12  "
            ]
          },
          "execution_count": 80,
          "metadata": {},
          "output_type": "execute_result"
        }
      ],
      "source": [
        "master_df = master_df.drop(\n",
        "    [\"product\", \"product_id\"],\n",
        "    axis = 1) \n",
        "master_df.head(2)"
      ]
    },
    {
      "cell_type": "code",
      "execution_count": 81,
      "metadata": {
        "colab": {
          "base_uri": "https://localhost:8080/",
          "height": 426
        },
        "id": "5BHQjSft2p6g",
        "outputId": "72ed4bed-c67c-4a33-dd3b-c3e6f737e429"
      },
      "outputs": [
        {
          "data": {
            "text/html": [
              "<div>\n",
              "<style scoped>\n",
              "    .dataframe tbody tr th:only-of-type {\n",
              "        vertical-align: middle;\n",
              "    }\n",
              "\n",
              "    .dataframe tbody tr th {\n",
              "        vertical-align: top;\n",
              "    }\n",
              "\n",
              "    .dataframe thead th {\n",
              "        text-align: right;\n",
              "    }\n",
              "</style>\n",
              "<table border=\"1\" class=\"dataframe\">\n",
              "  <thead>\n",
              "    <tr style=\"text-align: right;\">\n",
              "      <th></th>\n",
              "      <th>customer_id</th>\n",
              "      <th>age</th>\n",
              "      <th>gender</th>\n",
              "      <th>signup_date_time</th>\n",
              "      <th>cancel_date_time</th>\n",
              "      <th>diff</th>\n",
              "      <th>diff_days</th>\n",
              "      <th>name</th>\n",
              "      <th>price</th>\n",
              "      <th>billing_cycle</th>\n",
              "    </tr>\n",
              "  </thead>\n",
              "  <tbody>\n",
              "    <tr>\n",
              "      <th>0</th>\n",
              "      <td>C2448</td>\n",
              "      <td>76</td>\n",
              "      <td>female</td>\n",
              "      <td>2017-01-01 10:35:09</td>\n",
              "      <td>2021-12-31 00:00:00</td>\n",
              "      <td>1824 days 13:24:51</td>\n",
              "      <td>1824</td>\n",
              "      <td>annual_subscription</td>\n",
              "      <td>1200</td>\n",
              "      <td>12</td>\n",
              "    </tr>\n",
              "    <tr>\n",
              "      <th>1</th>\n",
              "      <td>C2449</td>\n",
              "      <td>61</td>\n",
              "      <td>male</td>\n",
              "      <td>2017-01-01 11:39:29</td>\n",
              "      <td>2021-09-05 10:00:02</td>\n",
              "      <td>1707 days 22:20:33</td>\n",
              "      <td>1707</td>\n",
              "      <td>annual_subscription</td>\n",
              "      <td>1200</td>\n",
              "      <td>12</td>\n",
              "    </tr>\n",
              "  </tbody>\n",
              "</table>\n",
              "</div>"
            ],
            "text/plain": [
              "  customer_id  age  gender    signup_date_time    cancel_date_time  \\\n",
              "0       C2448   76  female 2017-01-01 10:35:09 2021-12-31 00:00:00   \n",
              "1       C2449   61    male 2017-01-01 11:39:29 2021-09-05 10:00:02   \n",
              "\n",
              "                diff  diff_days                 name  price  billing_cycle  \n",
              "0 1824 days 13:24:51       1824  annual_subscription   1200             12  \n",
              "1 1707 days 22:20:33       1707  annual_subscription   1200             12  "
            ]
          },
          "execution_count": 81,
          "metadata": {},
          "output_type": "execute_result"
        }
      ],
      "source": [
        "master_df[\"signup_date_time\"] = \\\n",
        "    pd.to_datetime(master_df[\"signup_date_time\"])\n",
        "master_df[\"cancel_date_time\"] = \\\n",
        "    pd.to_datetime(master_df[\"cancel_date_time\"])\n",
        "master_df.head(2)"
      ]
    },
    {
      "cell_type": "code",
      "execution_count": 82,
      "metadata": {},
      "outputs": [
        {
          "data": {
            "text/html": [
              "<div>\n",
              "<style scoped>\n",
              "    .dataframe tbody tr th:only-of-type {\n",
              "        vertical-align: middle;\n",
              "    }\n",
              "\n",
              "    .dataframe tbody tr th {\n",
              "        vertical-align: top;\n",
              "    }\n",
              "\n",
              "    .dataframe thead th {\n",
              "        text-align: right;\n",
              "    }\n",
              "</style>\n",
              "<table border=\"1\" class=\"dataframe\">\n",
              "  <thead>\n",
              "    <tr style=\"text-align: right;\">\n",
              "      <th></th>\n",
              "      <th>customer_id</th>\n",
              "      <th>age</th>\n",
              "      <th>gender</th>\n",
              "      <th>signup_date_time</th>\n",
              "      <th>cancel_date_time</th>\n",
              "      <th>diff</th>\n",
              "      <th>diff_days</th>\n",
              "      <th>name</th>\n",
              "      <th>price</th>\n",
              "      <th>billing_cycle</th>\n",
              "      <th>year</th>\n",
              "    </tr>\n",
              "  </thead>\n",
              "  <tbody>\n",
              "    <tr>\n",
              "      <th>0</th>\n",
              "      <td>C2448</td>\n",
              "      <td>76</td>\n",
              "      <td>female</td>\n",
              "      <td>2017-01-01 10:35:09</td>\n",
              "      <td>2021-12-31 00:00:00</td>\n",
              "      <td>1824 days 13:24:51</td>\n",
              "      <td>1824</td>\n",
              "      <td>annual_subscription</td>\n",
              "      <td>1200</td>\n",
              "      <td>12</td>\n",
              "      <td>2017</td>\n",
              "    </tr>\n",
              "    <tr>\n",
              "      <th>1</th>\n",
              "      <td>C2449</td>\n",
              "      <td>61</td>\n",
              "      <td>male</td>\n",
              "      <td>2017-01-01 11:39:29</td>\n",
              "      <td>2021-09-05 10:00:02</td>\n",
              "      <td>1707 days 22:20:33</td>\n",
              "      <td>1707</td>\n",
              "      <td>annual_subscription</td>\n",
              "      <td>1200</td>\n",
              "      <td>12</td>\n",
              "      <td>2017</td>\n",
              "    </tr>\n",
              "  </tbody>\n",
              "</table>\n",
              "</div>"
            ],
            "text/plain": [
              "  customer_id  age  gender    signup_date_time    cancel_date_time  \\\n",
              "0       C2448   76  female 2017-01-01 10:35:09 2021-12-31 00:00:00   \n",
              "1       C2449   61    male 2017-01-01 11:39:29 2021-09-05 10:00:02   \n",
              "\n",
              "                diff  diff_days                 name  price  billing_cycle  \\\n",
              "0 1824 days 13:24:51       1824  annual_subscription   1200             12   \n",
              "1 1707 days 22:20:33       1707  annual_subscription   1200             12   \n",
              "\n",
              "   year  \n",
              "0  2017  \n",
              "1  2017  "
            ]
          },
          "execution_count": 82,
          "metadata": {},
          "output_type": "execute_result"
        }
      ],
      "source": [
        "master_df[\"year\"] = \\\n",
        "    master_df[\"signup_date_time\"].dt.year\n",
        "master_df.head(2)"
      ]
    },
    {
      "attachments": {},
      "cell_type": "markdown",
      "metadata": {},
      "source": [
        "Now, we want to calculate the mean income per customer by product via groupby and aggregations."
      ]
    },
    {
      "cell_type": "code",
      "execution_count": 83,
      "metadata": {},
      "outputs": [
        {
          "data": {
            "text/html": [
              "<div>\n",
              "<style scoped>\n",
              "    .dataframe tbody tr th:only-of-type {\n",
              "        vertical-align: middle;\n",
              "    }\n",
              "\n",
              "    .dataframe tbody tr th {\n",
              "        vertical-align: top;\n",
              "    }\n",
              "\n",
              "    .dataframe thead tr th {\n",
              "        text-align: left;\n",
              "    }\n",
              "\n",
              "    .dataframe thead tr:last-of-type th {\n",
              "        text-align: right;\n",
              "    }\n",
              "</style>\n",
              "<table border=\"1\" class=\"dataframe\">\n",
              "  <thead>\n",
              "    <tr>\n",
              "      <th></th>\n",
              "      <th></th>\n",
              "      <th colspan=\"2\" halign=\"left\">price</th>\n",
              "    </tr>\n",
              "    <tr>\n",
              "      <th></th>\n",
              "      <th></th>\n",
              "      <th>mean</th>\n",
              "      <th>sum</th>\n",
              "    </tr>\n",
              "    <tr>\n",
              "      <th>name</th>\n",
              "      <th>year</th>\n",
              "      <th></th>\n",
              "      <th></th>\n",
              "    </tr>\n",
              "  </thead>\n",
              "  <tbody>\n",
              "    <tr>\n",
              "      <th rowspan=\"5\" valign=\"top\">annual_subscription</th>\n",
              "      <th>2017</th>\n",
              "      <td>1200.0</td>\n",
              "      <td>30666000</td>\n",
              "    </tr>\n",
              "    <tr>\n",
              "      <th>2018</th>\n",
              "      <td>1200.0</td>\n",
              "      <td>55366800</td>\n",
              "    </tr>\n",
              "    <tr>\n",
              "      <th>2019</th>\n",
              "      <td>1200.0</td>\n",
              "      <td>100388400</td>\n",
              "    </tr>\n",
              "    <tr>\n",
              "      <th>2020</th>\n",
              "      <td>1200.0</td>\n",
              "      <td>109245600</td>\n",
              "    </tr>\n",
              "    <tr>\n",
              "      <th>2021</th>\n",
              "      <td>1200.0</td>\n",
              "      <td>95112000</td>\n",
              "    </tr>\n",
              "    <tr>\n",
              "      <th rowspan=\"5\" valign=\"top\">monthly_subscription</th>\n",
              "      <th>2017</th>\n",
              "      <td>125.0</td>\n",
              "      <td>667625</td>\n",
              "    </tr>\n",
              "    <tr>\n",
              "      <th>2018</th>\n",
              "      <td>125.0</td>\n",
              "      <td>1495000</td>\n",
              "    </tr>\n",
              "    <tr>\n",
              "      <th>2019</th>\n",
              "      <td>125.0</td>\n",
              "      <td>3277375</td>\n",
              "    </tr>\n",
              "    <tr>\n",
              "      <th>2020</th>\n",
              "      <td>125.0</td>\n",
              "      <td>6825500</td>\n",
              "    </tr>\n",
              "    <tr>\n",
              "      <th>2021</th>\n",
              "      <td>125.0</td>\n",
              "      <td>10644875</td>\n",
              "    </tr>\n",
              "  </tbody>\n",
              "</table>\n",
              "</div>"
            ],
            "text/plain": [
              "                            price           \n",
              "                             mean        sum\n",
              "name                 year                   \n",
              "annual_subscription  2017  1200.0   30666000\n",
              "                     2018  1200.0   55366800\n",
              "                     2019  1200.0  100388400\n",
              "                     2020  1200.0  109245600\n",
              "                     2021  1200.0   95112000\n",
              "monthly_subscription 2017   125.0     667625\n",
              "                     2018   125.0    1495000\n",
              "                     2019   125.0    3277375\n",
              "                     2020   125.0    6825500\n",
              "                     2021   125.0   10644875"
            ]
          },
          "execution_count": 83,
          "metadata": {},
          "output_type": "execute_result"
        }
      ],
      "source": [
        "master_df.groupby([\"name\", \"year\"]).agg(\n",
        "    {\"price\": [\"mean\", \"sum\"]})"
      ]
    },
    {
      "cell_type": "markdown",
      "metadata": {
        "id": "-aI5tloES_DU"
      },
      "source": [
        "Can you put in a simple line plot the sum over the years?"
      ]
    },
    {
      "cell_type": "code",
      "execution_count": 90,
      "metadata": {
        "colab": {
          "base_uri": "https://localhost:8080/",
          "height": 690
        },
        "id": "E2jIKCOcU7Kk",
        "outputId": "2fffeff7-b358-41cb-e8ee-f9ec0a0999e3"
      },
      "outputs": [
        {
          "data": {
            "text/plain": [
              "name\n",
              "annual_subscription     AxesSubplot(0.125,0.11;0.775x0.77)\n",
              "monthly_subscription    AxesSubplot(0.125,0.11;0.775x0.77)\n",
              "Name: price, dtype: object"
            ]
          },
          "execution_count": 90,
          "metadata": {},
          "output_type": "execute_result"
        },
        {
          "data": {
            "image/png": "[encoded data removed]",
            "text/plain": [
              "<Figure size 500x500 with 1 Axes>"
            ]
          },
          "metadata": {},
          "output_type": "display_data"
        }
      ],
      "source": [
        "master_grp_df = master_df.groupby([\"name\", \"year\"]).sum().reset_index()\n",
        "master_grp_df = master_grp_df.set_index('year')\n",
        "master_grp_df.groupby('name')['price'].plot.line(\n",
        "    legend=True, rot=45, \n",
        "    title=\"SUBSCRIPTION\",\n",
        "    figsize=(5, 5))"
      ]
    },
    {
      "cell_type": "markdown",
      "metadata": {
        "id": "xcxQ7bvzQjtt"
      },
      "source": [
        "#### Calculating the mean incomes per client over gender"
      ]
    },
    {
      "cell_type": "markdown",
      "metadata": {
        "id": "mX6uR0kBRCST"
      },
      "source": [
        "We need to calculate the mean income per customer by gender via groupby and aggregations."
      ]
    },
    {
      "cell_type": "code",
      "execution_count": 87,
      "metadata": {
        "colab": {
          "base_uri": "https://localhost:8080/",
          "height": 175
        },
        "id": "LODds9r21prQ",
        "outputId": "c08cd371-2662-4349-edc5-f6fbf2cb39cf"
      },
      "outputs": [
        {
          "data": {
            "text/plain": [
              "<AxesSubplot:xlabel='gender'>"
            ]
          },
          "execution_count": 87,
          "metadata": {},
          "output_type": "execute_result"
        },
        {
          "data": {
            "image/png": "[encoded data removed]",
            "text/plain": [
              "<Figure size 640x480 with 1 Axes>"
            ]
          },
          "metadata": {},
          "output_type": "display_data"
        }
      ],
      "source": [
        "master_df.groupby([\"gender\"]).agg(\n",
        "    {\"price\": [\"mean\", \"sum\"]}).plot.line()"
      ]
    },
    {
      "cell_type": "markdown",
      "metadata": {
        "id": "zfcMsst8RLpv"
      },
      "source": [
        "Now, we want to plot it in a line plot, for that, i need to reindex and select only the mean."
      ]
    },
    {
      "cell_type": "code",
      "execution_count": null,
      "metadata": {
        "colab": {
          "base_uri": "https://localhost:8080/",
          "height": 663
        },
        "id": "89iNK5IKQulu",
        "outputId": "5f2ff3bb-9828-4edb-ac8c-bde44d1a4915"
      },
      "outputs": [],
      "source": []
    },
    {
      "cell_type": "markdown",
      "metadata": {
        "id": "2w-QO9d1TBSH"
      },
      "source": [
        "Last, we can compare who subscribe more between gender over a pie chart."
      ]
    },
    {
      "cell_type": "code",
      "execution_count": null,
      "metadata": {
        "colab": {
          "base_uri": "https://localhost:8080/",
          "height": 608
        },
        "id": "3CfDQym_RW0Y",
        "outputId": "df7baaab-5d47-46e4-c225-02f9ef5f71ef"
      },
      "outputs": [],
      "source": []
    }
  ],
  "metadata": {
    "colab": {
      "provenance": []
    },
    "kernelspec": {
      "display_name": "base",
      "language": "python",
      "name": "python3"
    },
    "language_info": {
      "codemirror_mode": {
        "name": "ipython",
        "version": 3
      },
      "file_extension": ".py",
      "mimetype": "text/x-python",
      "name": "python",
      "nbconvert_exporter": "python",
      "pygments_lexer": "ipython3",
      "version": "3.9.13"
    },
    "vscode": {
      "interpreter": {
        "hash": "40d3a090f54c6569ab1632332b64b2c03c39dcf918b08424e98f38b5ae0af88f"
      }
    }
  },
  "nbformat": 4,
  "nbformat_minor": 0
}
