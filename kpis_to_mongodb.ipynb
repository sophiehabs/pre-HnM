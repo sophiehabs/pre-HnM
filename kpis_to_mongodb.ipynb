{
  "cells": [
    {
      "cell_type": "markdown",
      "metadata": {
        "id": "nHjiXchaXaDE"
      },
      "source": [
        "# UNDERSTANDING THE WAY TO WORK WITH MONGODB\n",
        "\n",
        "## GOALS\n",
        "\n",
        "### Understand how to upload and download data to / from database. In this case will be:\n",
        "### - UPLOAD DATA from CSV to MONGODB\n",
        "### - DOWNLOAD DATA from MONGODB to the notebook"
      ]
    },
    {
      "cell_type": "markdown",
      "metadata": {
        "id": "SvjoVJVtUKD7"
      },
      "source": [
        "### MANAGING THE MONGODB ACCESS"
      ]
    },
    {
      "cell_type": "markdown",
      "metadata": {
        "id": "zewWERAQUSp2"
      },
      "source": [
        "Download the pymongo and mongoengine library to manage the mongodb database with dataframes"
      ]
    },
    {
      "cell_type": "code",
      "execution_count": 1,
      "metadata": {
        "colab": {
          "base_uri": "https://localhost:8080/"
        },
        "id": "1_t58p_VUSQ2",
        "outputId": "a77c0834-bd2b-40ec-b554-0e49cf68765d"
      },
      "outputs": [
        {
          "name": "stdout",
          "output_type": "stream",
          "text": [
            "Requirement already satisfied: pymongo in /opt/anaconda3/lib/python3.9/site-packages (4.3.3)\n",
            "Requirement already satisfied: mongoengine in /opt/anaconda3/lib/python3.9/site-packages (0.26.0)\n",
            "Requirement already satisfied: dnspython<3.0.0,>=1.16.0 in /opt/anaconda3/lib/python3.9/site-packages (from pymongo) (2.3.0)\n"
          ]
        }
      ],
      "source": [
        "!pip3 install pymongo mongoengine"
      ]
    },
    {
      "cell_type": "markdown",
      "metadata": {
        "id": "tSJmqbIIUhSR"
      },
      "source": [
        "Importing the needed libraries"
      ]
    },
    {
      "cell_type": "code",
      "execution_count": 2,
      "metadata": {
        "id": "z3xuaCnLUkdD"
      },
      "outputs": [],
      "source": [
        "import pymongo\n",
        "import mongoengine\n",
        "from mongoengine import StringField, ListField, DateTimeField, DictField\n",
        "from urllib.parse import quote_plus, quote\n",
        "import datetime\n",
        "import pprint as pp\n",
        "import pandas as pd"
      ]
    },
    {
      "cell_type": "markdown",
      "metadata": {
        "id": "NPO91f5FUyGF"
      },
      "source": [
        "Give value to all the variables to access to mongodb database"
      ]
    },
    {
      "cell_type": "code",
      "execution_count": 3,
      "metadata": {
        "id": "_QkLvfcimdnV"
      },
      "outputs": [],
      "source": [
        "user = \"sophie\"\n",
        "passw = \"Mongodb123456!\"\n",
        "host = \"sophie.zqjpl1q.mongodb.net\""
      ]
    },
    {
      "cell_type": "markdown",
      "metadata": {
        "id": "MeKlYFtrW5nu"
      },
      "source": [
        "Create a name of a new database and create this database if no exists"
      ]
    },
    {
      "cell_type": "code",
      "execution_count": 4,
      "metadata": {
        "id": "5u7xj649KOi3"
      },
      "outputs": [],
      "source": [
        "database = \"management\""
      ]
    },
    {
      "cell_type": "markdown",
      "metadata": {
        "id": "NFPv9jtBUoWz"
      },
      "source": [
        "Declare the function to connect to database"
      ]
    },
    {
      "cell_type": "code",
      "execution_count": 5,
      "metadata": {
        "colab": {
          "base_uri": "https://localhost:8080/"
        },
        "id": "kmvbFSe2U53x",
        "outputId": "0e61d602-52f1-4774-bcd0-f9a973bfffb8"
      },
      "outputs": [
        {
          "name": "stdout",
          "output_type": "stream",
          "text": [
            "['admin', 'local']\n"
          ]
        }
      ],
      "source": [
        "#mongoengine.connect(host = \"mongodb://{0}:{1}@{2}:27017/{3}\" \\\n",
        "#    .format(user, passw, host, database))\n",
        "client =  pymongo.MongoClient(\n",
        "    \"mongodb+srv://{0}:{1}@{2}/?retryWrites=true&w=majority\" \\\n",
        "    .format(user, passw, host))\n",
        "db = client[database]\n",
        "print(client.list_database_names())"
      ]
    },
    {
      "cell_type": "code",
      "execution_count": 6,
      "metadata": {
        "colab": {
          "base_uri": "https://localhost:8080/"
        },
        "id": "Mh6ZcovYL8cM",
        "outputId": "fffc6d62-3953-491a-afda-b1c82a043c93"
      },
      "outputs": [
        {
          "data": {
            "text/plain": [
              "Database(MongoClient(host=['ac-xqus6ni-shard-00-01.zqjpl1q.mongodb.net:27017', 'ac-xqus6ni-shard-00-00.zqjpl1q.mongodb.net:27017', 'ac-xqus6ni-shard-00-02.zqjpl1q.mongodb.net:27017'], document_class=dict, tz_aware=False, connect=True, retrywrites=True, w='majority', authsource='admin', replicaset='atlas-3pc8tt-shard-0', tls=True), 'management')"
            ]
          },
          "execution_count": 6,
          "metadata": {},
          "output_type": "execute_result"
        }
      ],
      "source": [
        "db"
      ]
    },
    {
      "cell_type": "markdown",
      "metadata": {
        "id": "2VVCxHkVcoTm"
      },
      "source": [
        "### LOADING THE DATA"
      ]
    },
    {
      "cell_type": "markdown",
      "metadata": {
        "id": "C8p_zKzQX3Up"
      },
      "source": [
        "Creating a function to remove all the unnamed columns in the datasets."
      ]
    },
    {
      "cell_type": "code",
      "execution_count": 7,
      "metadata": {
        "id": "sJHKJrKonC6A"
      },
      "outputs": [],
      "source": [
        "def remove_unnamed_cols(df):\n",
        "  df = df.loc[:, ~df.columns.str.contains('^Unnamed')]\n",
        "  return df"
      ]
    },
    {
      "cell_type": "markdown",
      "metadata": {
        "id": "Xa8-pauoYBh4"
      },
      "source": [
        "Creating a function to load the data directly from GOOGLE DRIVE."
      ]
    },
    {
      "cell_type": "code",
      "execution_count": 8,
      "metadata": {
        "id": "R-tSOlzZowEX"
      },
      "outputs": [],
      "source": [
        "def load_csv_from_drive(drive_url):\n",
        "    url='https://drive.google.com/uc?id=' + drive_url.split('/')[-2]\n",
        "    df = remove_unnamed_cols(pd.read_csv(url))\n",
        "    return df"
      ]
    },
    {
      "cell_type": "markdown",
      "metadata": {
        "id": "nVJOi5fmYIlt"
      },
      "source": [
        "Loading the CUSTOMERs data to pandas dataframe."
      ]
    },
    {
      "cell_type": "code",
      "execution_count": 9,
      "metadata": {
        "id": "pde0fZdEmC1T"
      },
      "outputs": [],
      "source": [
        "customer_drive_url = 'https://drive.google.com/file/d/1VerQ3_t3S5UBoN-6qteiuuntAf3pShBv/view?usp=sharing'\n",
        "customer_df = load_csv_from_drive(customer_drive_url)"
      ]
    },
    {
      "cell_type": "markdown",
      "metadata": {
        "id": "XyfseEaaYO8v"
      },
      "source": [
        "Showing a sample of data to validate the columns."
      ]
    },
    {
      "cell_type": "code",
      "execution_count": 10,
      "metadata": {
        "colab": {
          "base_uri": "https://localhost:8080/",
          "height": 112
        },
        "id": "J9pMk8pjmaWM",
        "outputId": "3385143f-f583-41bb-e3a7-c72f65b917c4"
      },
      "outputs": [
        {
          "data": {
            "text/html": [
              "<div>\n",
              "<style scoped>\n",
              "    .dataframe tbody tr th:only-of-type {\n",
              "        vertical-align: middle;\n",
              "    }\n",
              "\n",
              "    .dataframe tbody tr th {\n",
              "        vertical-align: top;\n",
              "    }\n",
              "\n",
              "    .dataframe thead th {\n",
              "        text-align: right;\n",
              "    }\n",
              "</style>\n",
              "<table border=\"1\" class=\"dataframe\">\n",
              "  <thead>\n",
              "    <tr style=\"text-align: right;\">\n",
              "      <th></th>\n",
              "      <th>customer_id</th>\n",
              "      <th>age</th>\n",
              "      <th>gender</th>\n",
              "    </tr>\n",
              "  </thead>\n",
              "  <tbody>\n",
              "    <tr>\n",
              "      <th>0</th>\n",
              "      <td>C2448</td>\n",
              "      <td>76</td>\n",
              "      <td>female</td>\n",
              "    </tr>\n",
              "    <tr>\n",
              "      <th>1</th>\n",
              "      <td>C2449</td>\n",
              "      <td>61</td>\n",
              "      <td>male</td>\n",
              "    </tr>\n",
              "  </tbody>\n",
              "</table>\n",
              "</div>"
            ],
            "text/plain": [
              "  customer_id  age  gender\n",
              "0       C2448   76  female\n",
              "1       C2449   61    male"
            ]
          },
          "execution_count": 10,
          "metadata": {},
          "output_type": "execute_result"
        }
      ],
      "source": [
        "customer_df.head(2)"
      ]
    },
    {
      "cell_type": "markdown",
      "metadata": {
        "id": "s3Xdn2DMYXbS"
      },
      "source": [
        "Applying **info** function to the dataframe to show types of the columns and the NULL values."
      ]
    },
    {
      "cell_type": "code",
      "execution_count": 11,
      "metadata": {
        "colab": {
          "base_uri": "https://localhost:8080/"
        },
        "id": "Z2NB4JKEoGZ-",
        "outputId": "8513f56e-854f-4650-9112-2523bc32d891"
      },
      "outputs": [
        {
          "name": "stdout",
          "output_type": "stream",
          "text": [
            "<class 'pandas.core.frame.DataFrame'>\n",
            "RangeIndex: 508932 entries, 0 to 508931\n",
            "Data columns (total 3 columns):\n",
            " #   Column       Non-Null Count   Dtype \n",
            "---  ------       --------------   ----- \n",
            " 0   customer_id  508932 non-null  object\n",
            " 1   age          508932 non-null  int64 \n",
            " 2   gender       508932 non-null  object\n",
            "dtypes: int64(1), object(2)\n",
            "memory usage: 11.6+ MB\n"
          ]
        }
      ],
      "source": [
        "customer_df.info()"
      ]
    },
    {
      "cell_type": "markdown",
      "metadata": {
        "id": "VwKSXRx0UAow"
      },
      "source": [
        "Creating the collection to insert in the database"
      ]
    },
    {
      "cell_type": "code",
      "execution_count": 12,
      "metadata": {
        "id": "PoB-JUR7K1sW"
      },
      "outputs": [],
      "source": [
        "collection = db['customer']"
      ]
    },
    {
      "cell_type": "markdown",
      "metadata": {
        "id": "_yps7JuEPy4a"
      },
      "source": [
        "Uploading dataframe to mongodb"
      ]
    },
    {
      "cell_type": "code",
      "execution_count": 13,
      "metadata": {
        "colab": {
          "base_uri": "https://localhost:8080/"
        },
        "id": "QzkE7UwUMQSP",
        "outputId": "f0bbd051-8f3a-4c25-96ae-a1d63c4c8b10"
      },
      "outputs": [
        {
          "data": {
            "text/plain": [
              "<pymongo.results.InsertManyResult at 0x7f982269e670>"
            ]
          },
          "execution_count": 13,
          "metadata": {},
          "output_type": "execute_result"
        }
      ],
      "source": [
        "customers_dict = customer_df.head(50).to_dict(\"records\")\n",
        "collection.insert_many(customers_dict)"
      ]
    },
    {
      "cell_type": "markdown",
      "metadata": {
        "id": "G9RI6ntvP5f-"
      },
      "source": [
        "Validating that we have created a new collection on the database"
      ]
    },
    {
      "cell_type": "code",
      "execution_count": 14,
      "metadata": {
        "colab": {
          "base_uri": "https://localhost:8080/"
        },
        "id": "cwUW2XKqQAON",
        "outputId": "6dacf733-f41f-4bc6-fde1-eeb6830abd14"
      },
      "outputs": [
        {
          "name": "stdout",
          "output_type": "stream",
          "text": [
            "['management', 'admin', 'local']\n"
          ]
        }
      ],
      "source": [
        "print(client.list_database_names())"
      ]
    },
    {
      "cell_type": "markdown",
      "metadata": {
        "id": "ICNoM24XQ77n"
      },
      "source": [
        "Dowloading customers from mongodb collection recently created"
      ]
    },
    {
      "cell_type": "code",
      "execution_count": 15,
      "metadata": {
        "id": "_ax3SSD8QwFt"
      },
      "outputs": [],
      "source": [
        "customers_mongodb_df = pd.DataFrame(list(collection.find()))"
      ]
    },
    {
      "cell_type": "code",
      "execution_count": 16,
      "metadata": {
        "colab": {
          "base_uri": "https://localhost:8080/",
          "height": 206
        },
        "id": "G3k0yoMQQ1cj",
        "outputId": "fa5e9d53-6685-41c6-f559-46d16e528454"
      },
      "outputs": [
        {
          "data": {
            "text/html": [
              "<div>\n",
              "<style scoped>\n",
              "    .dataframe tbody tr th:only-of-type {\n",
              "        vertical-align: middle;\n",
              "    }\n",
              "\n",
              "    .dataframe tbody tr th {\n",
              "        vertical-align: top;\n",
              "    }\n",
              "\n",
              "    .dataframe thead th {\n",
              "        text-align: right;\n",
              "    }\n",
              "</style>\n",
              "<table border=\"1\" class=\"dataframe\">\n",
              "  <thead>\n",
              "    <tr style=\"text-align: right;\">\n",
              "      <th></th>\n",
              "      <th>_id</th>\n",
              "      <th>customer_id</th>\n",
              "      <th>age</th>\n",
              "      <th>gender</th>\n",
              "    </tr>\n",
              "  </thead>\n",
              "  <tbody>\n",
              "    <tr>\n",
              "      <th>0</th>\n",
              "      <td>63f771f34864bf6e2a48d67c</td>\n",
              "      <td>C2448</td>\n",
              "      <td>76</td>\n",
              "      <td>female</td>\n",
              "    </tr>\n",
              "    <tr>\n",
              "      <th>1</th>\n",
              "      <td>63f771f34864bf6e2a48d67d</td>\n",
              "      <td>C2449</td>\n",
              "      <td>61</td>\n",
              "      <td>male</td>\n",
              "    </tr>\n",
              "    <tr>\n",
              "      <th>2</th>\n",
              "      <td>63f771f34864bf6e2a48d67e</td>\n",
              "      <td>C2450</td>\n",
              "      <td>58</td>\n",
              "      <td>female</td>\n",
              "    </tr>\n",
              "    <tr>\n",
              "      <th>3</th>\n",
              "      <td>63f771f34864bf6e2a48d67f</td>\n",
              "      <td>C2451</td>\n",
              "      <td>62</td>\n",
              "      <td>female</td>\n",
              "    </tr>\n",
              "    <tr>\n",
              "      <th>4</th>\n",
              "      <td>63f771f34864bf6e2a48d680</td>\n",
              "      <td>C2452</td>\n",
              "      <td>71</td>\n",
              "      <td>male</td>\n",
              "    </tr>\n",
              "  </tbody>\n",
              "</table>\n",
              "</div>"
            ],
            "text/plain": [
              "                        _id customer_id  age  gender\n",
              "0  63f771f34864bf6e2a48d67c       C2448   76  female\n",
              "1  63f771f34864bf6e2a48d67d       C2449   61    male\n",
              "2  63f771f34864bf6e2a48d67e       C2450   58  female\n",
              "3  63f771f34864bf6e2a48d67f       C2451   62  female\n",
              "4  63f771f34864bf6e2a48d680       C2452   71    male"
            ]
          },
          "execution_count": 16,
          "metadata": {},
          "output_type": "execute_result"
        }
      ],
      "source": [
        "customers_mongodb_df.head(5)"
      ]
    },
    {
      "cell_type": "markdown",
      "metadata": {
        "id": "OGNNtA65R4Eo"
      },
      "source": [
        "Dowloading customers from mongodb collection recently created with age greater than 74"
      ]
    },
    {
      "cell_type": "code",
      "execution_count": 17,
      "metadata": {
        "id": "QVnz0XQgQ37A"
      },
      "outputs": [],
      "source": [
        "customers_gt74_mongodb_df = pd.DataFrame(list(collection.find(\n",
        "    {\"age\": {\"$gt\": 74}})))"
      ]
    },
    {
      "cell_type": "code",
      "execution_count": 18,
      "metadata": {
        "colab": {
          "base_uri": "https://localhost:8080/",
          "height": 143
        },
        "id": "vcvBBKF1RlQp",
        "outputId": "f94bfb21-0545-4868-b2e3-3686da79fd70"
      },
      "outputs": [
        {
          "data": {
            "text/html": [
              "<div>\n",
              "<style scoped>\n",
              "    .dataframe tbody tr th:only-of-type {\n",
              "        vertical-align: middle;\n",
              "    }\n",
              "\n",
              "    .dataframe tbody tr th {\n",
              "        vertical-align: top;\n",
              "    }\n",
              "\n",
              "    .dataframe thead th {\n",
              "        text-align: right;\n",
              "    }\n",
              "</style>\n",
              "<table border=\"1\" class=\"dataframe\">\n",
              "  <thead>\n",
              "    <tr style=\"text-align: right;\">\n",
              "      <th></th>\n",
              "      <th>_id</th>\n",
              "      <th>customer_id</th>\n",
              "      <th>age</th>\n",
              "      <th>gender</th>\n",
              "    </tr>\n",
              "  </thead>\n",
              "  <tbody>\n",
              "    <tr>\n",
              "      <th>0</th>\n",
              "      <td>63f771f34864bf6e2a48d67c</td>\n",
              "      <td>C2448</td>\n",
              "      <td>76</td>\n",
              "      <td>female</td>\n",
              "    </tr>\n",
              "    <tr>\n",
              "      <th>1</th>\n",
              "      <td>63f771f34864bf6e2a48d6a9</td>\n",
              "      <td>C2493</td>\n",
              "      <td>75</td>\n",
              "      <td>male</td>\n",
              "    </tr>\n",
              "  </tbody>\n",
              "</table>\n",
              "</div>"
            ],
            "text/plain": [
              "                        _id customer_id  age  gender\n",
              "0  63f771f34864bf6e2a48d67c       C2448   76  female\n",
              "1  63f771f34864bf6e2a48d6a9       C2493   75    male"
            ]
          },
          "execution_count": 18,
          "metadata": {},
          "output_type": "execute_result"
        }
      ],
      "source": [
        "customers_gt74_mongodb_df.head(5)"
      ]
    },
    {
      "cell_type": "code",
      "execution_count": 68,
      "metadata": {
        "colab": {
          "base_uri": "https://localhost:8080/",
          "height": 112
        },
        "id": "4Ix94meoSQBW",
        "outputId": "2a91eb27-51b0-4dc0-a704-056bddcb1174"
      },
      "outputs": [
        {
          "data": {
            "text/html": [
              "\n",
              "  <div id=\"df-367b7cae-3eca-4ca2-80e0-4e271404659c\">\n",
              "    <div class=\"colab-df-container\">\n",
              "      <div>\n",
              "<style scoped>\n",
              "    .dataframe tbody tr th:only-of-type {\n",
              "        vertical-align: middle;\n",
              "    }\n",
              "\n",
              "    .dataframe tbody tr th {\n",
              "        vertical-align: top;\n",
              "    }\n",
              "\n",
              "    .dataframe thead th {\n",
              "        text-align: right;\n",
              "    }\n",
              "</style>\n",
              "<table border=\"1\" class=\"dataframe\">\n",
              "  <thead>\n",
              "    <tr style=\"text-align: right;\">\n",
              "      <th></th>\n",
              "      <th>_id</th>\n",
              "      <th>customer_id</th>\n",
              "      <th>age</th>\n",
              "      <th>gender</th>\n",
              "    </tr>\n",
              "  </thead>\n",
              "  <tbody>\n",
              "    <tr>\n",
              "      <th>0</th>\n",
              "      <td>63f6979d19fda64196915be5</td>\n",
              "      <td>C2448</td>\n",
              "      <td>76</td>\n",
              "      <td>female</td>\n",
              "    </tr>\n",
              "    <tr>\n",
              "      <th>1</th>\n",
              "      <td>63f697e019fda64196915be7</td>\n",
              "      <td>C2448</td>\n",
              "      <td>76</td>\n",
              "      <td>female</td>\n",
              "    </tr>\n",
              "  </tbody>\n",
              "</table>\n",
              "</div>\n",
              "      <button class=\"colab-df-convert\" onclick=\"convertToInteractive('df-367b7cae-3eca-4ca2-80e0-4e271404659c')\"\n",
              "              title=\"Convert this dataframe to an interactive table.\"\n",
              "              style=\"display:none;\">\n",
              "        \n",
              "  <svg xmlns=\"http://www.w3.org/2000/svg\" height=\"24px\"viewBox=\"0 0 24 24\"\n",
              "       width=\"24px\">\n",
              "    <path d=\"M0 0h24v24H0V0z\" fill=\"none\"/>\n",
              "    <path d=\"M18.56 5.44l.94 2.06.94-2.06 2.06-.94-2.06-.94-.94-2.06-.94 2.06-2.06.94zm-11 1L8.5 8.5l.94-2.06 2.06-.94-2.06-.94L8.5 2.5l-.94 2.06-2.06.94zm10 10l.94 2.06.94-2.06 2.06-.94-2.06-.94-.94-2.06-.94 2.06-2.06.94z\"/><path d=\"M17.41 7.96l-1.37-1.37c-.4-.4-.92-.59-1.43-.59-.52 0-1.04.2-1.43.59L10.3 9.45l-7.72 7.72c-.78.78-.78 2.05 0 2.83L4 21.41c.39.39.9.59 1.41.59.51 0 1.02-.2 1.41-.59l7.78-7.78 2.81-2.81c.8-.78.8-2.07 0-2.86zM5.41 20L4 18.59l7.72-7.72 1.47 1.35L5.41 20z\"/>\n",
              "  </svg>\n",
              "      </button>\n",
              "      \n",
              "  <style>\n",
              "    .colab-df-container {\n",
              "      display:flex;\n",
              "      flex-wrap:wrap;\n",
              "      gap: 12px;\n",
              "    }\n",
              "\n",
              "    .colab-df-convert {\n",
              "      background-color: #E8F0FE;\n",
              "      border: none;\n",
              "      border-radius: 50%;\n",
              "      cursor: pointer;\n",
              "      display: none;\n",
              "      fill: #1967D2;\n",
              "      height: 32px;\n",
              "      padding: 0 0 0 0;\n",
              "      width: 32px;\n",
              "    }\n",
              "\n",
              "    .colab-df-convert:hover {\n",
              "      background-color: #E2EBFA;\n",
              "      box-shadow: 0px 1px 2px rgba(60, 64, 67, 0.3), 0px 1px 3px 1px rgba(60, 64, 67, 0.15);\n",
              "      fill: #174EA6;\n",
              "    }\n",
              "\n",
              "    [theme=dark] .colab-df-convert {\n",
              "      background-color: #3B4455;\n",
              "      fill: #D2E3FC;\n",
              "    }\n",
              "\n",
              "    [theme=dark] .colab-df-convert:hover {\n",
              "      background-color: #434B5C;\n",
              "      box-shadow: 0px 1px 3px 1px rgba(0, 0, 0, 0.15);\n",
              "      filter: drop-shadow(0px 1px 2px rgba(0, 0, 0, 0.3));\n",
              "      fill: #FFFFFF;\n",
              "    }\n",
              "  </style>\n",
              "\n",
              "      <script>\n",
              "        const buttonEl =\n",
              "          document.querySelector('#df-367b7cae-3eca-4ca2-80e0-4e271404659c button.colab-df-convert');\n",
              "        buttonEl.style.display =\n",
              "          google.colab.kernel.accessAllowed ? 'block' : 'none';\n",
              "\n",
              "        async function convertToInteractive(key) {\n",
              "          const element = document.querySelector('#df-367b7cae-3eca-4ca2-80e0-4e271404659c');\n",
              "          const dataTable =\n",
              "            await google.colab.kernel.invokeFunction('convertToInteractive',\n",
              "                                                     [key], {});\n",
              "          if (!dataTable) return;\n",
              "\n",
              "          const docLinkHtml = 'Like what you see? Visit the ' +\n",
              "            '<a target=\"_blank\" href=https://colab.research.google.com/notebooks/data_table.ipynb>data table notebook</a>'\n",
              "            + ' to learn more about interactive tables.';\n",
              "          element.innerHTML = '';\n",
              "          dataTable['output_type'] = 'display_data';\n",
              "          await google.colab.output.renderOutput(dataTable, element);\n",
              "          const docLink = document.createElement('div');\n",
              "          docLink.innerHTML = docLinkHtml;\n",
              "          element.appendChild(docLink);\n",
              "        }\n",
              "      </script>\n",
              "    </div>\n",
              "  </div>\n",
              "  "
            ],
            "text/plain": [
              "                        _id customer_id  age  gender\n",
              "0  63f6979d19fda64196915be5       C2448   76  female\n",
              "1  63f697e019fda64196915be7       C2448   76  female"
            ]
          },
          "execution_count": 68,
          "metadata": {},
          "output_type": "execute_result"
        }
      ],
      "source": [
        "customers_gt74_mongodb_df[customers_gt74_mongodb_df[\"gender\"] == 'female']"
      ]
    }
  ],
  "metadata": {
    "colab": {
      "provenance": []
    },
    "kernelspec": {
      "display_name": "base",
      "language": "python",
      "name": "python3"
    },
    "language_info": {
      "codemirror_mode": {
        "name": "ipython",
        "version": 3
      },
      "file_extension": ".py",
      "mimetype": "text/x-python",
      "name": "python",
      "nbconvert_exporter": "python",
      "pygments_lexer": "ipython3",
      "version": "3.9.13"
    },
    "vscode": {
      "interpreter": {
        "hash": "40d3a090f54c6569ab1632332b64b2c03c39dcf918b08424e98f38b5ae0af88f"
      }
    }
  },
  "nbformat": 4,
  "nbformat_minor": 0
}
