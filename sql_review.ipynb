{
  "cells": [
    {
      "cell_type": "markdown",
      "metadata": {
        "id": "IFaPrQTcTr_H"
      },
      "source": [
        "![](https://mystery.knightlab.com/174092-clue-illustration.png)\n",
        "\n",
        "There's been a Murder in SQL City! The SQL Murder Mystery is designed to be both a self-directed lesson to learn SQL concepts and commands and a fun game for experienced SQL users to solve an intriguing crime."
      ]
    },
    {
      "cell_type": "markdown",
      "metadata": {
        "id": "FWFlZUq4UJ7c"
      },
      "source": [
        "#### Experienced SQL sleuths start here\n",
        "A crime has taken place and the detective needs your help. The detective gave you the crime scene report, but you somehow lost it. You vaguely remember that the crime was a ​murder​ that occurred sometime on ​Jan.15, 2018​ and that it took place in ​SQL City​. Start by retrieving the corresponding crime scene report from the police department’s database."
      ]
    },
    {
      "cell_type": "markdown",
      "metadata": {
        "id": "MOQJaic3U7Rg"
      },
      "source": [
        "First of all, we need to upload the data from the SQLITE database."
      ]
    },
    {
      "cell_type": "code",
      "execution_count": 5,
      "metadata": {
        "id": "lUlL2dSIU6ab"
      },
      "outputs": [],
      "source": [
        "import sqlite3"
      ]
    },
    {
      "cell_type": "code",
      "execution_count": 7,
      "metadata": {
        "id": "cR_3mr85TgYK"
      },
      "outputs": [],
      "source": [
        "%%capture\n",
        "%load_ext sql\n",
        "%sql sqlite:///content/sql-murder-mystery.db\n",
        "%env DATABASE_URL=sqlite:///sql-murder-mystery.db"
      ]
    },
    {
      "cell_type": "markdown",
      "metadata": {
        "id": "Y9ryVl-bV_G9"
      },
      "source": [
        "#### Exploring the Database Structure\n",
        "Experienced SQL users can often use database queries to infer the structure of a database. But each database system has different ways of managing this information. The SQL Murder Mystery is built using SQLite. Use this SQL command to find the tables in the Murder Mystery database."
      ]
    },
    {
      "cell_type": "markdown",
      "metadata": {
        "id": "yUTmLjhWWM8Z"
      },
      "source": [
        "![](https://mystery.knightlab.com/schema.png)"
      ]
    },
    {
      "cell_type": "code",
      "execution_count": 8,
      "metadata": {
        "colab": {
          "base_uri": "https://localhost:8080/",
          "height": 267
        },
        "id": "Hmfmg3ynV-wQ",
        "outputId": "89166603-764a-4154-d6bc-f6bda7d75325"
      },
      "outputs": [
        {
          "name": "stderr",
          "output_type": "stream",
          "text": [
            "UsageError: Cell magic `%%sql` not found.\n"
          ]
        }
      ],
      "source": [
        "%%sql\n",
        "\n",
        "SELECT name\n",
        "FROM sqlite_master\n",
        "WHERE type='table';"
      ]
    },
    {
      "cell_type": "code",
      "execution_count": 9,
      "metadata": {
        "colab": {
          "base_uri": "https://localhost:8080/",
          "height": 289
        },
        "id": "ZYPG2TS9VOMu",
        "outputId": "8385f53a-46c0-414e-cd5f-b75bcdff655e"
      },
      "outputs": [
        {
          "name": "stderr",
          "output_type": "stream",
          "text": [
            "UsageError: Cell magic `%%sql` not found.\n"
          ]
        }
      ],
      "source": [
        "%%sql\n",
        "\n",
        "SELECT *\n",
        "FROM interview\n",
        "LIMIT 10;"
      ]
    },
    {
      "cell_type": "code",
      "execution_count": null,
      "metadata": {
        "id": "2TsborapXm3L"
      },
      "outputs": [],
      "source": []
    }
  ],
  "metadata": {
    "colab": {
      "provenance": []
    },
    "kernelspec": {
      "display_name": "base",
      "language": "python",
      "name": "python3"
    },
    "language_info": {
      "codemirror_mode": {
        "name": "ipython",
        "version": 3
      },
      "file_extension": ".py",
      "mimetype": "text/x-python",
      "name": "python",
      "nbconvert_exporter": "python",
      "pygments_lexer": "ipython3",
      "version": "3.9.13"
    },
    "vscode": {
      "interpreter": {
        "hash": "40d3a090f54c6569ab1632332b64b2c03c39dcf918b08424e98f38b5ae0af88f"
      }
    }
  },
  "nbformat": 4,
  "nbformat_minor": 0
}
